{
  "nbformat": 4,
  "nbformat_minor": 0,
  "metadata": {
    "colab": {
      "name": "Wine.ipynb",
      "provenance": [],
      "collapsed_sections": [],
      "authorship_tag": "ABX9TyNbqd79gwX9Ee2PDPElGrvE",
      "include_colab_link": true
    },
    "kernelspec": {
      "name": "python3",
      "display_name": "Python 3"
    }
  },
  "cells": [
    {
      "cell_type": "markdown",
      "metadata": {
        "id": "view-in-github",
        "colab_type": "text"
      },
      "source": [
        "<a href=\"https://colab.research.google.com/github/PragyaShukla2580/Loan/blob/main/Wine.ipynb\" target=\"_parent\"><img src=\"https://colab.research.google.com/assets/colab-badge.svg\" alt=\"Open In Colab\"/></a>"
      ]
    },
    {
      "cell_type": "markdown",
      "metadata": {
        "id": "kZEc3mNHkOHF"
      },
      "source": [
        "#**Wine Quality Prediction**\n",
        "\n"
      ]
    },
    {
      "cell_type": "markdown",
      "metadata": {
        "id": "g18WzIa0fSbp"
      },
      "source": [
        "Forget apples. Instead, it's a glass of red wine a day that may keep the doctor away. Studies show red wine may protect the heart and control cholesterol levels, among other benefits. And these protective qualities have been mostly attributed to two components in red wine: the alcohol and the grape’s antioxidants.\n",
        "\n",
        "**To Drink, or Not to Drink? — The Answer/Debate** Not a fan of red? While it lacks the reservatol present in red wine, white wine, might be just as protective of the heart and— even the lungs — as long as it’s rich in other antioxidants like tyrosol and hydroxytyrosol .\n",
        "\n",
        "But, alas, all wines are not created equal. Dark red wines made from a grape with thick skin, like Malbec, are full of resveratrol. Other antioxidant winners include Cabernet Sauvignon, Pinor Noir, and Chardonnay . Don’t drink (or simply can’t stand) either? Consider purple grape juice or a resveratrol supplement to reap similar benefits.\n",
        "\n",
        "One thing to keep in mind: one serving of wine is only five ounces. Drinking the whole bottle doesn’t double (or quadruple) the benefits, and drinking too much can lead to cancers and other diseases. Like any indulgence, moderation is key: the USDA recommends no more than five ounces for women and ten ounces for men per day. With these limitations in mind, go grab that glass."
      ]
    },
    {
      "cell_type": "code",
      "metadata": {
        "id": "v3sEWsWxbZ9o"
      },
      "source": [
        "import numpy as np # linear algebra\n",
        "import pandas as pd # data processing, CSV file I/O (e.g. pd.read_csv)\n",
        "import matplotlib.pyplot as plt\n",
        "import seaborn as sns\n",
        "\n",
        "wine = pd.read_csv('winequality-red.csv')"
      ],
      "execution_count": null,
      "outputs": []
    },
    {
      "cell_type": "code",
      "metadata": {
        "colab": {
          "base_uri": "https://localhost:8080/",
          "height": 142
        },
        "id": "zWUURMMofvZM",
        "outputId": "557dd17d-77d7-4a25-b7d1-b91626254cb2"
      },
      "source": [
        "wine.head(3)"
      ],
      "execution_count": null,
      "outputs": [
        {
          "output_type": "execute_result",
          "data": {
            "text/html": [
              "<div>\n",
              "<style scoped>\n",
              "    .dataframe tbody tr th:only-of-type {\n",
              "        vertical-align: middle;\n",
              "    }\n",
              "\n",
              "    .dataframe tbody tr th {\n",
              "        vertical-align: top;\n",
              "    }\n",
              "\n",
              "    .dataframe thead th {\n",
              "        text-align: right;\n",
              "    }\n",
              "</style>\n",
              "<table border=\"1\" class=\"dataframe\">\n",
              "  <thead>\n",
              "    <tr style=\"text-align: right;\">\n",
              "      <th></th>\n",
              "      <th>fixed acidity</th>\n",
              "      <th>volatile acidity</th>\n",
              "      <th>citric acid</th>\n",
              "      <th>residual sugar</th>\n",
              "      <th>chlorides</th>\n",
              "      <th>free sulfur dioxide</th>\n",
              "      <th>total sulfur dioxide</th>\n",
              "      <th>density</th>\n",
              "      <th>pH</th>\n",
              "      <th>sulphates</th>\n",
              "      <th>alcohol</th>\n",
              "      <th>quality</th>\n",
              "    </tr>\n",
              "  </thead>\n",
              "  <tbody>\n",
              "    <tr>\n",
              "      <th>0</th>\n",
              "      <td>7.4</td>\n",
              "      <td>0.70</td>\n",
              "      <td>0.00</td>\n",
              "      <td>1.9</td>\n",
              "      <td>0.076</td>\n",
              "      <td>11.0</td>\n",
              "      <td>34.0</td>\n",
              "      <td>0.9978</td>\n",
              "      <td>3.51</td>\n",
              "      <td>0.56</td>\n",
              "      <td>9.4</td>\n",
              "      <td>5</td>\n",
              "    </tr>\n",
              "    <tr>\n",
              "      <th>1</th>\n",
              "      <td>7.8</td>\n",
              "      <td>0.88</td>\n",
              "      <td>0.00</td>\n",
              "      <td>2.6</td>\n",
              "      <td>0.098</td>\n",
              "      <td>25.0</td>\n",
              "      <td>67.0</td>\n",
              "      <td>0.9968</td>\n",
              "      <td>3.20</td>\n",
              "      <td>0.68</td>\n",
              "      <td>9.8</td>\n",
              "      <td>5</td>\n",
              "    </tr>\n",
              "    <tr>\n",
              "      <th>2</th>\n",
              "      <td>7.8</td>\n",
              "      <td>0.76</td>\n",
              "      <td>0.04</td>\n",
              "      <td>2.3</td>\n",
              "      <td>0.092</td>\n",
              "      <td>15.0</td>\n",
              "      <td>54.0</td>\n",
              "      <td>0.9970</td>\n",
              "      <td>3.26</td>\n",
              "      <td>0.65</td>\n",
              "      <td>9.8</td>\n",
              "      <td>5</td>\n",
              "    </tr>\n",
              "  </tbody>\n",
              "</table>\n",
              "</div>"
            ],
            "text/plain": [
              "   fixed acidity  volatile acidity  citric acid  ...  sulphates  alcohol  quality\n",
              "0            7.4              0.70         0.00  ...       0.56      9.4        5\n",
              "1            7.8              0.88         0.00  ...       0.68      9.8        5\n",
              "2            7.8              0.76         0.04  ...       0.65      9.8        5\n",
              "\n",
              "[3 rows x 12 columns]"
            ]
          },
          "metadata": {
            "tags": []
          },
          "execution_count": 2
        }
      ]
    },
    {
      "cell_type": "code",
      "metadata": {
        "colab": {
          "base_uri": "https://localhost:8080/"
        },
        "id": "zCatUDtif279",
        "outputId": "0637de77-9a71-4ca5-d762-661f8136016e"
      },
      "source": [
        "wine.info()"
      ],
      "execution_count": null,
      "outputs": [
        {
          "output_type": "stream",
          "text": [
            "<class 'pandas.core.frame.DataFrame'>\n",
            "RangeIndex: 1599 entries, 0 to 1598\n",
            "Data columns (total 12 columns):\n",
            " #   Column                Non-Null Count  Dtype  \n",
            "---  ------                --------------  -----  \n",
            " 0   fixed acidity         1599 non-null   float64\n",
            " 1   volatile acidity      1599 non-null   float64\n",
            " 2   citric acid           1599 non-null   float64\n",
            " 3   residual sugar        1599 non-null   float64\n",
            " 4   chlorides             1599 non-null   float64\n",
            " 5   free sulfur dioxide   1599 non-null   float64\n",
            " 6   total sulfur dioxide  1599 non-null   float64\n",
            " 7   density               1599 non-null   float64\n",
            " 8   pH                    1599 non-null   float64\n",
            " 9   sulphates             1599 non-null   float64\n",
            " 10  alcohol               1599 non-null   float64\n",
            " 11  quality               1599 non-null   int64  \n",
            "dtypes: float64(11), int64(1)\n",
            "memory usage: 150.0 KB\n"
          ],
          "name": "stdout"
        }
      ]
    },
    {
      "cell_type": "code",
      "metadata": {
        "colab": {
          "base_uri": "https://localhost:8080/"
        },
        "id": "hI6N8mtDf7Xh",
        "outputId": "750610e6-f43a-4742-b758-5486d89a507f"
      },
      "source": [
        "wine[wine.isnull()].count()"
      ],
      "execution_count": null,
      "outputs": [
        {
          "output_type": "execute_result",
          "data": {
            "text/plain": [
              "fixed acidity           0\n",
              "volatile acidity        0\n",
              "citric acid             0\n",
              "residual sugar          0\n",
              "chlorides               0\n",
              "free sulfur dioxide     0\n",
              "total sulfur dioxide    0\n",
              "density                 0\n",
              "pH                      0\n",
              "sulphates               0\n",
              "alcohol                 0\n",
              "quality                 0\n",
              "dtype: int64"
            ]
          },
          "metadata": {
            "tags": []
          },
          "execution_count": 4
        }
      ]
    },
    {
      "cell_type": "markdown",
      "metadata": {
        "id": "podmcmMKgHZi"
      },
      "source": [
        "**The data is clean.**\n",
        "\n",
        "**Acidity**\n",
        "\n",
        "The acids in wine are an important component in both winemaking and the finished product of wine. They are present in both grapes and wine, having direct influences on the color, balance and taste of the wine as well as the growth and vitality of yeast during fermentation and protecting the wine from bacteria.\n",
        "\n",
        "Three primary acids are found in wine grapes: **tartaric, malic and citric acids.** During the course of winemaking and in the finished wines, acetic, butyric, lactic and succinic acids can play significant roles. Most of the acids involved with wine are fixed acids with the notable exception of acetic acid, mostly found in vinegar, which is volatile and can contribute to the wine fault known as volatile acidity. Sometimes, additional acids, such as ascorbic, sorbic and sulfurous acids, are used in winemaking.\n",
        "\n",
        "**Comparison of Acidity with Quality**"
      ]
    },
    {
      "cell_type": "code",
      "metadata": {
        "colab": {
          "base_uri": "https://localhost:8080/",
          "height": 568
        },
        "id": "P3xT7j4Qgh2K",
        "outputId": "1d9ffb92-b302-48c5-bdb7-fb7b68fe6e39"
      },
      "source": [
        "plt.figure(figsize=(10,8))\n",
        "sns.boxplot(wine['quality'],wine['fixed acidity'])"
      ],
      "execution_count": null,
      "outputs": [
        {
          "output_type": "stream",
          "text": [
            "/usr/local/lib/python3.6/dist-packages/seaborn/_decorators.py:43: FutureWarning: Pass the following variables as keyword args: x, y. From version 0.12, the only valid positional argument will be `data`, and passing other arguments without an explicit keyword will result in an error or misinterpretation.\n",
            "  FutureWarning\n"
          ],
          "name": "stderr"
        },
        {
          "output_type": "execute_result",
          "data": {
            "text/plain": [
              "<matplotlib.axes._subplots.AxesSubplot at 0x7f1e2b91e358>"
            ]
          },
          "metadata": {
            "tags": []
          },
          "execution_count": 5
        },
        {
          "output_type": "display_data",
          "data": {
            "image/png": "[encoded data removed]",
            "text/plain": [
              "<Figure size 720x576 with 1 Axes>"
            ]
          },
          "metadata": {
            "tags": [],
            "needs_background": "light"
          }
        }
      ]
    },
    {
      "cell_type": "markdown",
      "metadata": {
        "id": "ToavAax4gnlZ"
      },
      "source": [
        "The measure of the amount of acidity in wine is known as the “titratable acidity” or “total acidity”, which refers to the test that yields the total of all acids present, **while strength of acidity is measured according to pH, with most wines having a pH between 2.9 and 3.9. Generally, the lower the pH, the higher the acidity in the wine.** This can be seen in the graph below."
      ]
    },
    {
      "cell_type": "code",
      "metadata": {
        "colab": {
          "base_uri": "https://localhost:8080/",
          "height": 506
        },
        "id": "up2sD37ZgtQ5",
        "outputId": "b9b36145-78ad-4998-970e-2537cd1960d9"
      },
      "source": [
        "plt.figure(figsize=(10,8))\n",
        "plt.scatter(wine['fixed acidity'],wine['pH'])\n",
        "plt.xlabel('Acidity').set_size(20)\n",
        "plt.ylabel('pH').set_size(20)"
      ],
      "execution_count": null,
      "outputs": [
        {
          "output_type": "display_data",
          "data": {
            "image/png": "[encoded data removed]",
            "text/plain": [
              "<Figure size 720x576 with 1 Axes>"
            ]
          },
          "metadata": {
            "tags": [],
            "needs_background": "light"
          }
        }
      ]
    },
    {
      "cell_type": "markdown",
      "metadata": {
        "id": "O1o3lbVPhKcH"
      },
      "source": [
        "However, there is no direct connection between total acidity and pH (it is possible to find wines with a high pH for wine and high acidity).[1] In wine tasting, **the term “acidity” refers to the fresh, tart and sour attributes of the wine which are evaluated in relation to how well the acidity balances out the sweetness and bitter components of the wine such as tannins.**\n",
        "\n",
        "**Acidity in wine is important.**\n",
        "\n",
        "**As much as modern health has demonized acidic foods, acidity is an essential trait in wine that’s necessary for quality.** Great wines are in balance with their 4 fundamental traits (Acidity, tannin, alcohol and sweetness) and as wines age, the acidity acts as a buffer to preserve the wine longer. For example, Sauternes, a wine with both high acidity and sweetness, is known to age several decades.\n",
        "\n",
        "Let us see if pH/Acidity is related to the overal quality rating."
      ]
    },
    {
      "cell_type": "code",
      "metadata": {
        "colab": {
          "base_uri": "https://localhost:8080/",
          "height": 560
        },
        "id": "4fy0nqR9hZJx",
        "outputId": "358cdc05-2950-4b2c-b1c3-5261510a157a"
      },
      "source": [
        "plt.figure(figsize=(10,8))\n",
        "sns.pointplot(wine['quality'],wine['pH'], color='grey')\n",
        "plt.xlabel('Quality').set_size(20)\n",
        "plt.ylabel('pH').set_size(20)"
      ],
      "execution_count": null,
      "outputs": [
        {
          "output_type": "stream",
          "text": [
            "/usr/local/lib/python3.6/dist-packages/seaborn/_decorators.py:43: FutureWarning: Pass the following variables as keyword args: x, y. From version 0.12, the only valid positional argument will be `data`, and passing other arguments without an explicit keyword will result in an error or misinterpretation.\n",
            "  FutureWarning\n"
          ],
          "name": "stderr"
        },
        {
          "output_type": "display_data",
          "data": {
            "image/png": "[encoded data removed]",
            "text/plain": [
              "<Figure size 720x576 with 1 Axes>"
            ]
          },
          "metadata": {
            "tags": [],
            "needs_background": "light"
          }
        }
      ]
    },
    {
      "cell_type": "markdown",
      "metadata": {
        "id": "GUD1Ryfeh3j2"
      },
      "source": [
        "**We can infer that higher quality wines have a comparatively low pH/high Acidity**\n",
        "\n",
        "**Citric Acid**\n",
        "\n",
        "While very common in citrus fruits, such as limes, citric acid is found only in very minute quantities in wine grapes. It often has a concentration about 1/20 that of tartaric acid. The citric acid most commonly found in wine is commercially produced acid supplements derived from fermenting sucrose solutions.\n",
        "\n",
        "These inexpensive supplements can be used by winemakers in acidification to boost the wine's total acidity. It is used less frequently than tartaric and malic due to the aggressive citric flavors it can add to the wine. When citric acid is added, it is always done after primary alcohol fermentation has been completed due to the tendency of yeast to convert citric into acetic acid.\n",
        "\n",
        "**In the European Union, use of citric acid for acidification is prohibited, but limited use of citric acid is permitted for removing excess iron and copper from the wine if potassium ferrocyanide is not available.**"
      ]
    },
    {
      "cell_type": "code",
      "metadata": {
        "colab": {
          "base_uri": "https://localhost:8080/",
          "height": 560
        },
        "id": "Su_IE1XfiDag",
        "outputId": "befb6787-f4ce-4b63-8f64-747b4e7c9f3c"
      },
      "source": [
        "plt.figure(figsize=(10,8))\n",
        "sns.countplot(wine['citric acid'] > 0)\n",
        "plt.xlabel('Citric Acid Content').set_size(20)\n",
        "plt.ylabel('Count').set_size(20)"
      ],
      "execution_count": null,
      "outputs": [
        {
          "output_type": "stream",
          "text": [
            "/usr/local/lib/python3.6/dist-packages/seaborn/_decorators.py:43: FutureWarning: Pass the following variable as a keyword arg: x. From version 0.12, the only valid positional argument will be `data`, and passing other arguments without an explicit keyword will result in an error or misinterpretation.\n",
            "  FutureWarning\n"
          ],
          "name": "stderr"
        },
        {
          "output_type": "display_data",
          "data": {
            "image/png": "[encoded data removed]",
            "text/plain": [
              "<Figure size 720x576 with 1 Axes>"
            ]
          },
          "metadata": {
            "tags": [],
            "needs_background": "light"
          }
        }
      ]
    },
    {
      "cell_type": "markdown",
      "metadata": {
        "id": "WKQZfJMLiIcO"
      },
      "source": [
        "**From the above graph, we can infer that approximately 180-200 wines are European.**\n",
        "\n",
        "**Sulfur Dioxide**\n",
        "\n",
        "Sulfur dioxide plays two important roles. Firstly, it is an anti-microbial agent, and as such is used to help curtail the growth of undesirable fault producing yeasts and bacteria. Secondly, it acts as an antioxidant, safeguarding the wine's fruit integrity and protecting it against browning.\n",
        "\n",
        "Despite its chemical simplicity, SO2 can take on a few different forms in a wine. One form is called 'molecular SO2'. When in this form, it is around 500 times more effective in killing wine microbes than when in any of the other forms that it can take (Sneyd et al. 1992). Luckily for us, the desirable yeasts that undertake wine fermentation are more resistant to SO2 than most of the spoilage yeasts. **So having some SO2 around helps give the desirable bugs a leg-up in their competitive dog eat dog world in which they co-exist.**\n",
        "\n",
        "Many would be aware that sulfur dioxide can cause severe allergic reactions in some people. So why do winemakers use it? Put simply, **it is very difficult to make wines that have an aging potential beyond a few months if sulfur dioxide is not used during winemaking. A big statement but true.**"
      ]
    },
    {
      "cell_type": "code",
      "metadata": {
        "colab": {
          "base_uri": "https://localhost:8080/",
          "height": 560
        },
        "id": "J4Rqh-G5ib6X",
        "outputId": "4a9deec6-4636-431e-e970-f348fe82e51f"
      },
      "source": [
        "plt.figure(figsize=(10,8))\n",
        "sns.barplot(wine['quality'],wine['total sulfur dioxide'])\n",
        "plt.xlabel('Quality').set_size(20)\n",
        "plt.ylabel('Total Sulfur Dioxide').set_size(20)\n"
      ],
      "execution_count": null,
      "outputs": [
        {
          "output_type": "stream",
          "text": [
            "/usr/local/lib/python3.6/dist-packages/seaborn/_decorators.py:43: FutureWarning: Pass the following variables as keyword args: x, y. From version 0.12, the only valid positional argument will be `data`, and passing other arguments without an explicit keyword will result in an error or misinterpretation.\n",
            "  FutureWarning\n"
          ],
          "name": "stderr"
        },
        {
          "output_type": "display_data",
          "data": {
            "image/png": "[encoded data removed]",
            "text/plain": [
              "<Figure size 720x576 with 1 Axes>"
            ]
          },
          "metadata": {
            "tags": [],
            "needs_background": "light"
          }
        }
      ]
    },
    {
      "cell_type": "markdown",
      "metadata": {
        "id": "Ah1J6vd2ii9z"
      },
      "source": [
        "**Residual Sugar**\n",
        "\n",
        "Residual Sugar, or RS for short, refers to any natural grape sugars that are leftover after fermentation ceases (whether on purpose or not). The juice of wine grapes starts out intensely sweet, and fermentation uses up that sugar as the yeasts feast upon it. The by-products are bubbly CO2 gas and our adorable amigo, alcohol.\n",
        "\n",
        "There are many reasons why fermentation might stop. The age-old method has to do with alcohol toxicity. Different yeast strains can tolerate different levels of alcohol, so a weaker strain might die before eating all the sugar in the fermenting wine. In the case of a dessert wine like Sauternes or ice wine, the sugars are concentrated when the grapes get shriveled, so there's a lot of sugar to ferment. When alcohol reaches the level of a normal dry wine, say 12 or 14%, the yeast might die, but plenty of uneaten sugar is left. In the case of a fortified wine, hard booze is added to get a similar job done.\n",
        "\n",
        "**In addition to its obvious sweetening power, sugar also has a bonus effect: it can help wines age well.** If you can go the long haul, say, a decade (or two, or three), the RS can bring deep dividends. We've talked a little about which wines age well: **those with a little RS can be the most exciting to taste as they evolve over time.** The sugar compounds change shape, and we perceive them less directly, so the wines even seem to dry out a bit.\n",
        "\n",
        "**Whether your bottle is young or elderly, you should think of RS as having a balancing relationship with acidity.** They are on opposite sides of the seesaw, so if the wine has sugar you will probably want strong acidity, too—otherwise the wine will feel cloying.\n",
        "\n",
        "**This fact can be proven below.**"
      ]
    },
    {
      "cell_type": "code",
      "metadata": {
        "colab": {
          "base_uri": "https://localhost:8080/",
          "height": 558
        },
        "id": "EDKqioSOihxr",
        "outputId": "e603b5de-d763-43b0-c0aa-5c63295e8191"
      },
      "source": [
        "plt.figure(figsize=(10,8))\n",
        "sns.pointplot(wine['pH'].round(1),wine['residual sugar'], color='green')\n",
        "plt.xlabel('pH').set_size(15)\n",
        "plt.ylabel('Residual Sugar').set_size(15)"
      ],
      "execution_count": null,
      "outputs": [
        {
          "output_type": "stream",
          "text": [
            "/usr/local/lib/python3.6/dist-packages/seaborn/_decorators.py:43: FutureWarning: Pass the following variables as keyword args: x, y. From version 0.12, the only valid positional argument will be `data`, and passing other arguments without an explicit keyword will result in an error or misinterpretation.\n",
            "  FutureWarning\n"
          ],
          "name": "stderr"
        },
        {
          "output_type": "display_data",
          "data": {
            "image/png": "[encoded data removed]",
            "text/plain": [
              "<Figure size 720x576 with 1 Axes>"
            ]
          },
          "metadata": {
            "tags": [],
            "needs_background": "light"
          }
        }
      ]
    },
    {
      "cell_type": "markdown",
      "metadata": {
        "id": "iZlS2xeBi6dy"
      },
      "source": [
        "**From the graph, we can see that low levels of pH(High Acidity) have high levels of Sugar.**\n",
        "\n",
        "**Chloride**\n",
        "\n",
        "In every vineyard, a unique combination of climate, topography and soil, known as terroir, shapes the character of the vines and the grapes they yield. Typicity and quality of the wines are determined by the terroir that houses the vineyard. Such typicity is due to the complexity of its composition.\n",
        "\n",
        "Among the main factors interfering with the typicity of wines are grape variety, region of origin, vintage, cultural traits and elaboration methods. Thus, by combining these distinctive factors, **several different wines can be created, each one of them with its own unique characteristics.**\n",
        "\n",
        "**According to the findings, Australia wines have the highest levels of chlorides, followed by Argentinean wines, a country that bears the second position for the concentration levels of such ion.**\n",
        "\n",
        "**Differences in the physicochemical characteristics of wines may be due to several factors. All of them are related to soil and climate conditions, as well as to oenological practices used during maturation of the grapes and vinification process.**\n",
        "\n",
        "The amount of chloride in wine is influenced by both the terroir and type of grape, and the importance of quantification lies in the fact that wine flavor is strongly impacted by this particular ion, which, in high concentration, gives the wine an undesirable salty taste and significantly decreases its market appeal."
      ]
    },
    {
      "cell_type": "code",
      "metadata": {
        "colab": {
          "base_uri": "https://localhost:8080/",
          "height": 502
        },
        "id": "t2Qaxl0wj0un",
        "outputId": "d8db60ab-e8f3-4047-e828-c2ace4d63c8c"
      },
      "source": [
        "plt.figure(figsize=(20,8))\n",
        "sns.countplot(x=wine['chlorides'].round(2))\n",
        "plt.xlabel('Chlorides').set_size(15)\n",
        "plt.ylabel('Count').set_size(15)"
      ],
      "execution_count": null,
      "outputs": [
        {
          "output_type": "display_data",
          "data": {
            "image/png": "[encoded data removed]",
            "text/plain": [
              "<Figure size 1440x576 with 1 Axes>"
            ]
          },
          "metadata": {
            "tags": [],
            "needs_background": "light"
          }
        }
      ]
    },
    {
      "cell_type": "markdown",
      "metadata": {
        "id": "_MTXp5nnj52Y"
      },
      "source": [
        "**Red Wine Quality Prediction**"
      ]
    },
    {
      "cell_type": "code",
      "metadata": {
        "id": "tbchKahFj85U"
      },
      "source": [
        "from sklearn.model_selection import train_test_split\n",
        "from sklearn import metrics"
      ],
      "execution_count": null,
      "outputs": []
    },
    {
      "cell_type": "markdown",
      "metadata": {
        "id": "55TQkbOHmUaV"
      },
      "source": [
        "Feature Scaling"
      ]
    },
    {
      "cell_type": "code",
      "metadata": {
        "id": "QarizGJmmXry"
      },
      "source": [
        "from sklearn.preprocessing import StandardScaler\n",
        "scaler = StandardScaler()"
      ],
      "execution_count": null,
      "outputs": []
    },
    {
      "cell_type": "code",
      "metadata": {
        "id": "oa_ZIDX7mcU-"
      },
      "source": [
        "scaler.fit(wine.drop(['quality'],axis=1))\n",
        "scaled_feat = scaler.transform(wine.drop(['quality'],axis=1))\n",
        "wine_scaled = pd.DataFrame(scaled_feat,columns=wine.columns[:-1])"
      ],
      "execution_count": null,
      "outputs": []
    },
    {
      "cell_type": "markdown",
      "metadata": {
        "id": "d1D5Vq5Pme0Y"
      },
      "source": [
        "**1. Prediction without arbitrary cut-off for Quality(Dependent Variable)**\n",
        "\n",
        "**1.1 Using Train Test Split(Hold Out Method)**\n",
        "\n",
        "**1.1.1 Logistic Regression**"
      ]
    },
    {
      "cell_type": "code",
      "metadata": {
        "id": "weMyIBHwml2w"
      },
      "source": [
        "from sklearn.linear_model import LogisticRegression\n",
        "lr = LogisticRegression()"
      ],
      "execution_count": null,
      "outputs": []
    },
    {
      "cell_type": "code",
      "metadata": {
        "id": "kbU99bmQmrAz"
      },
      "source": [
        "X = wine_scaled\n",
        "y = wine['quality']"
      ],
      "execution_count": null,
      "outputs": []
    },
    {
      "cell_type": "code",
      "metadata": {
        "id": "MGik2SDNmtUL"
      },
      "source": [
        "X_train, X_test, y_train, y_test = train_test_split(X, y, test_size=0.30)"
      ],
      "execution_count": null,
      "outputs": []
    },
    {
      "cell_type": "code",
      "metadata": {
        "colab": {
          "base_uri": "https://localhost:8080/"
        },
        "id": "UEHJOVvrmvF3",
        "outputId": "c10ddb29-d8af-417c-9277-3922278e51fb"
      },
      "source": [
        "lr.fit(X_train,y_train)"
      ],
      "execution_count": null,
      "outputs": [
        {
          "output_type": "execute_result",
          "data": {
            "text/plain": [
              "LogisticRegression(C=1.0, class_weight=None, dual=False, fit_intercept=True,\n",
              "                   intercept_scaling=1, l1_ratio=None, max_iter=100,\n",
              "                   multi_class='auto', n_jobs=None, penalty='l2',\n",
              "                   random_state=None, solver='lbfgs', tol=0.0001, verbose=0,\n",
              "                   warm_start=False)"
            ]
          },
          "metadata": {
            "tags": []
          },
          "execution_count": 18
        }
      ]
    },
    {
      "cell_type": "code",
      "metadata": {
        "id": "8I9X6qBsm1Mn"
      },
      "source": [
        "lr_pred = lr.predict(X_test)"
      ],
      "execution_count": null,
      "outputs": []
    },
    {
      "cell_type": "code",
      "metadata": {
        "colab": {
          "base_uri": "https://localhost:8080/",
          "height": 252
        },
        "id": "r3NbeRFcm3dl",
        "outputId": "17444708-03ce-4e3f-f631-d70d5176ec2e"
      },
      "source": [
        "lr_conf_matrix = pd.DataFrame(data=metrics.confusion_matrix(y_test,lr_pred),index=[[3,4,5,6,7,8]], columns=[[3,4,5,6,7,8]])\n",
        "print(\"Confusion Matrix:\")\n",
        "lr_conf_matrix"
      ],
      "execution_count": null,
      "outputs": [
        {
          "output_type": "stream",
          "text": [
            "Confusion Matrix:\n"
          ],
          "name": "stdout"
        },
        {
          "output_type": "execute_result",
          "data": {
            "text/html": [
              "<div>\n",
              "<style scoped>\n",
              "    .dataframe tbody tr th:only-of-type {\n",
              "        vertical-align: middle;\n",
              "    }\n",
              "\n",
              "    .dataframe tbody tr th {\n",
              "        vertical-align: top;\n",
              "    }\n",
              "\n",
              "    .dataframe thead tr th {\n",
              "        text-align: left;\n",
              "    }\n",
              "</style>\n",
              "<table border=\"1\" class=\"dataframe\">\n",
              "  <thead>\n",
              "    <tr>\n",
              "      <th></th>\n",
              "      <th>3</th>\n",
              "      <th>4</th>\n",
              "      <th>5</th>\n",
              "      <th>6</th>\n",
              "      <th>7</th>\n",
              "      <th>8</th>\n",
              "    </tr>\n",
              "  </thead>\n",
              "  <tbody>\n",
              "    <tr>\n",
              "      <th>3</th>\n",
              "      <td>0</td>\n",
              "      <td>1</td>\n",
              "      <td>2</td>\n",
              "      <td>0</td>\n",
              "      <td>0</td>\n",
              "      <td>0</td>\n",
              "    </tr>\n",
              "    <tr>\n",
              "      <th>4</th>\n",
              "      <td>0</td>\n",
              "      <td>0</td>\n",
              "      <td>9</td>\n",
              "      <td>4</td>\n",
              "      <td>0</td>\n",
              "      <td>0</td>\n",
              "    </tr>\n",
              "    <tr>\n",
              "      <th>5</th>\n",
              "      <td>0</td>\n",
              "      <td>0</td>\n",
              "      <td>167</td>\n",
              "      <td>40</td>\n",
              "      <td>0</td>\n",
              "      <td>0</td>\n",
              "    </tr>\n",
              "    <tr>\n",
              "      <th>6</th>\n",
              "      <td>0</td>\n",
              "      <td>0</td>\n",
              "      <td>73</td>\n",
              "      <td>117</td>\n",
              "      <td>9</td>\n",
              "      <td>0</td>\n",
              "    </tr>\n",
              "    <tr>\n",
              "      <th>7</th>\n",
              "      <td>0</td>\n",
              "      <td>0</td>\n",
              "      <td>3</td>\n",
              "      <td>35</td>\n",
              "      <td>14</td>\n",
              "      <td>0</td>\n",
              "    </tr>\n",
              "    <tr>\n",
              "      <th>8</th>\n",
              "      <td>0</td>\n",
              "      <td>0</td>\n",
              "      <td>0</td>\n",
              "      <td>4</td>\n",
              "      <td>2</td>\n",
              "      <td>0</td>\n",
              "    </tr>\n",
              "  </tbody>\n",
              "</table>\n",
              "</div>"
            ],
            "text/plain": [
              "   3  4    5    6   7  8\n",
              "3  0  1    2    0   0  0\n",
              "4  0  0    9    4   0  0\n",
              "5  0  0  167   40   0  0\n",
              "6  0  0   73  117   9  0\n",
              "7  0  0    3   35  14  0\n",
              "8  0  0    0    4   2  0"
            ]
          },
          "metadata": {
            "tags": []
          },
          "execution_count": 20
        }
      ]
    },
    {
      "cell_type": "code",
      "metadata": {
        "colab": {
          "base_uri": "https://localhost:8080/"
        },
        "id": "s0XPP-VWp-U9",
        "outputId": "ba7887cb-2274-484b-c40b-35249950eecd"
      },
      "source": [
        "lr_as = metrics.accuracy_score(y_test,lr_pred)\n",
        "print(\"Accuracy Score: {}\\n\\n\".format(lr_as))\n",
        "print(\"Classification Report: \\n{}\".format(metrics.classification_report(y_test,lr_pred)))"
      ],
      "execution_count": null,
      "outputs": [
        {
          "output_type": "stream",
          "text": [
            "Accuracy Score: 0.6208333333333333\n",
            "\n",
            "\n",
            "Classification Report: \n",
            "              precision    recall  f1-score   support\n",
            "\n",
            "           3       0.00      0.00      0.00         3\n",
            "           4       0.00      0.00      0.00        13\n",
            "           5       0.66      0.81      0.72       207\n",
            "           6       0.58      0.59      0.59       199\n",
            "           7       0.56      0.27      0.36        52\n",
            "           8       0.00      0.00      0.00         6\n",
            "\n",
            "    accuracy                           0.62       480\n",
            "   macro avg       0.30      0.28      0.28       480\n",
            "weighted avg       0.59      0.62      0.59       480\n",
            "\n"
          ],
          "name": "stdout"
        },
        {
          "output_type": "stream",
          "text": [
            "/usr/local/lib/python3.6/dist-packages/sklearn/metrics/_classification.py:1272: UndefinedMetricWarning: Precision and F-score are ill-defined and being set to 0.0 in labels with no predicted samples. Use `zero_division` parameter to control this behavior.\n",
            "  _warn_prf(average, modifier, msg_start, len(result))\n"
          ],
          "name": "stderr"
        }
      ]
    },
    {
      "cell_type": "markdown",
      "metadata": {
        "id": "2oCRqmShuf2m"
      },
      "source": [
        "**1.1.2 Decision Tree**"
      ]
    },
    {
      "cell_type": "code",
      "metadata": {
        "id": "-dKmZ38auijU"
      },
      "source": [
        "from sklearn.tree import DecisionTreeClassifier"
      ],
      "execution_count": null,
      "outputs": []
    },
    {
      "cell_type": "code",
      "metadata": {
        "id": "130qQihFulqa"
      },
      "source": [
        "dtc = DecisionTreeClassifier()"
      ],
      "execution_count": null,
      "outputs": []
    },
    {
      "cell_type": "code",
      "metadata": {
        "colab": {
          "base_uri": "https://localhost:8080/"
        },
        "id": "Pwn7qr8fumDJ",
        "outputId": "fced4537-f1f3-4b97-a3e4-acafff08256f"
      },
      "source": [
        "dtc.fit(X_train,y_train)"
      ],
      "execution_count": null,
      "outputs": [
        {
          "output_type": "execute_result",
          "data": {
            "text/plain": [
              "DecisionTreeClassifier(ccp_alpha=0.0, class_weight=None, criterion='gini',\n",
              "                       max_depth=None, max_features=None, max_leaf_nodes=None,\n",
              "                       min_impurity_decrease=0.0, min_impurity_split=None,\n",
              "                       min_samples_leaf=1, min_samples_split=2,\n",
              "                       min_weight_fraction_leaf=0.0, presort='deprecated',\n",
              "                       random_state=None, splitter='best')"
            ]
          },
          "metadata": {
            "tags": []
          },
          "execution_count": 24
        }
      ]
    },
    {
      "cell_type": "code",
      "metadata": {
        "id": "A1oBtJUeuqce"
      },
      "source": [
        "dtc_pred = dtc.predict(X_test)"
      ],
      "execution_count": null,
      "outputs": []
    },
    {
      "cell_type": "code",
      "metadata": {
        "colab": {
          "base_uri": "https://localhost:8080/",
          "height": 252
        },
        "id": "4GlwYsAWurE2",
        "outputId": "7d96f82b-31eb-4d74-f72a-02bb54fb5a58"
      },
      "source": [
        "dtc_conf_matrix = pd.DataFrame(data=metrics.confusion_matrix(y_test,dtc_pred),index=[[3,4,5,6,7,8]], columns=[[3,4,5,6,7,8]])\n",
        "print(\"Confusion Matrix: \")\n",
        "dtc_conf_matrix"
      ],
      "execution_count": null,
      "outputs": [
        {
          "output_type": "stream",
          "text": [
            "Confusion Matrix: \n"
          ],
          "name": "stdout"
        },
        {
          "output_type": "execute_result",
          "data": {
            "text/html": [
              "<div>\n",
              "<style scoped>\n",
              "    .dataframe tbody tr th:only-of-type {\n",
              "        vertical-align: middle;\n",
              "    }\n",
              "\n",
              "    .dataframe tbody tr th {\n",
              "        vertical-align: top;\n",
              "    }\n",
              "\n",
              "    .dataframe thead tr th {\n",
              "        text-align: left;\n",
              "    }\n",
              "</style>\n",
              "<table border=\"1\" class=\"dataframe\">\n",
              "  <thead>\n",
              "    <tr>\n",
              "      <th></th>\n",
              "      <th>3</th>\n",
              "      <th>4</th>\n",
              "      <th>5</th>\n",
              "      <th>6</th>\n",
              "      <th>7</th>\n",
              "      <th>8</th>\n",
              "    </tr>\n",
              "  </thead>\n",
              "  <tbody>\n",
              "    <tr>\n",
              "      <th>3</th>\n",
              "      <td>0</td>\n",
              "      <td>0</td>\n",
              "      <td>0</td>\n",
              "      <td>2</td>\n",
              "      <td>1</td>\n",
              "      <td>0</td>\n",
              "    </tr>\n",
              "    <tr>\n",
              "      <th>4</th>\n",
              "      <td>1</td>\n",
              "      <td>2</td>\n",
              "      <td>7</td>\n",
              "      <td>3</td>\n",
              "      <td>0</td>\n",
              "      <td>0</td>\n",
              "    </tr>\n",
              "    <tr>\n",
              "      <th>5</th>\n",
              "      <td>0</td>\n",
              "      <td>9</td>\n",
              "      <td>136</td>\n",
              "      <td>55</td>\n",
              "      <td>7</td>\n",
              "      <td>0</td>\n",
              "    </tr>\n",
              "    <tr>\n",
              "      <th>6</th>\n",
              "      <td>0</td>\n",
              "      <td>9</td>\n",
              "      <td>50</td>\n",
              "      <td>120</td>\n",
              "      <td>16</td>\n",
              "      <td>4</td>\n",
              "    </tr>\n",
              "    <tr>\n",
              "      <th>7</th>\n",
              "      <td>0</td>\n",
              "      <td>0</td>\n",
              "      <td>7</td>\n",
              "      <td>15</td>\n",
              "      <td>28</td>\n",
              "      <td>2</td>\n",
              "    </tr>\n",
              "    <tr>\n",
              "      <th>8</th>\n",
              "      <td>0</td>\n",
              "      <td>0</td>\n",
              "      <td>0</td>\n",
              "      <td>1</td>\n",
              "      <td>3</td>\n",
              "      <td>2</td>\n",
              "    </tr>\n",
              "  </tbody>\n",
              "</table>\n",
              "</div>"
            ],
            "text/plain": [
              "   3  4    5    6   7  8\n",
              "3  0  0    0    2   1  0\n",
              "4  1  2    7    3   0  0\n",
              "5  0  9  136   55   7  0\n",
              "6  0  9   50  120  16  4\n",
              "7  0  0    7   15  28  2\n",
              "8  0  0    0    1   3  2"
            ]
          },
          "metadata": {
            "tags": []
          },
          "execution_count": 26
        }
      ]
    },
    {
      "cell_type": "code",
      "metadata": {
        "colab": {
          "base_uri": "https://localhost:8080/"
        },
        "id": "NSIQvtT2uuIX",
        "outputId": "ee96adae-78f9-4e32-c97f-032d686fc106"
      },
      "source": [
        "dtc_as = metrics.accuracy_score(y_test,dtc_pred)\n",
        "print(\"Accuracy Score: {}\\n\\n\".format(dtc_as))\n",
        "print(\"Classification Report: \\n{}\".format(metrics.classification_report(y_test,dtc_pred)))"
      ],
      "execution_count": null,
      "outputs": [
        {
          "output_type": "stream",
          "text": [
            "Accuracy Score: 0.6\n",
            "\n",
            "\n",
            "Classification Report: \n",
            "              precision    recall  f1-score   support\n",
            "\n",
            "           3       0.00      0.00      0.00         3\n",
            "           4       0.10      0.15      0.12        13\n",
            "           5       0.68      0.66      0.67       207\n",
            "           6       0.61      0.60      0.61       199\n",
            "           7       0.51      0.54      0.52        52\n",
            "           8       0.25      0.33      0.29         6\n",
            "\n",
            "    accuracy                           0.60       480\n",
            "   macro avg       0.36      0.38      0.37       480\n",
            "weighted avg       0.61      0.60      0.60       480\n",
            "\n"
          ],
          "name": "stdout"
        }
      ]
    },
    {
      "cell_type": "markdown",
      "metadata": {
        "id": "tsEuwM28uv5I"
      },
      "source": [
        "**1.1.3 Random Forest**"
      ]
    },
    {
      "cell_type": "code",
      "metadata": {
        "id": "eMtlMQQMuxHo"
      },
      "source": [
        "from sklearn.ensemble import RandomForestClassifier"
      ],
      "execution_count": null,
      "outputs": []
    },
    {
      "cell_type": "code",
      "metadata": {
        "id": "7h7muU1buzTp"
      },
      "source": [
        "rfc = RandomForestClassifier(n_estimators=20)"
      ],
      "execution_count": null,
      "outputs": []
    },
    {
      "cell_type": "code",
      "metadata": {
        "colab": {
          "base_uri": "https://localhost:8080/"
        },
        "id": "o7zLNCexu05L",
        "outputId": "66dedf35-0d2b-4099-bad5-9987f0c2fcf2"
      },
      "source": [
        "rfc.fit(X_train,y_train)"
      ],
      "execution_count": null,
      "outputs": [
        {
          "output_type": "execute_result",
          "data": {
            "text/plain": [
              "RandomForestClassifier(bootstrap=True, ccp_alpha=0.0, class_weight=None,\n",
              "                       criterion='gini', max_depth=None, max_features='auto',\n",
              "                       max_leaf_nodes=None, max_samples=None,\n",
              "                       min_impurity_decrease=0.0, min_impurity_split=None,\n",
              "                       min_samples_leaf=1, min_samples_split=2,\n",
              "                       min_weight_fraction_leaf=0.0, n_estimators=20,\n",
              "                       n_jobs=None, oob_score=False, random_state=None,\n",
              "                       verbose=0, warm_start=False)"
            ]
          },
          "metadata": {
            "tags": []
          },
          "execution_count": 30
        }
      ]
    },
    {
      "cell_type": "code",
      "metadata": {
        "id": "794dTolou4GB"
      },
      "source": [
        "rfc_pred = rfc.predict(X_test)"
      ],
      "execution_count": null,
      "outputs": []
    },
    {
      "cell_type": "code",
      "metadata": {
        "colab": {
          "base_uri": "https://localhost:8080/",
          "height": 252
        },
        "id": "MnpCi7cOu5o1",
        "outputId": "4cd9c7d0-ae32-4d24-d057-475fec6f8c1f"
      },
      "source": [
        "rfc_conf_matrix = pd.DataFrame(data=metrics.confusion_matrix(y_test,rfc_pred),index=[[3,4,5,6,7,8]], columns=[[3,4,5,6,7,8]])\n",
        "print(\"Confusion Matrix: \")\n",
        "rfc_conf_matrix"
      ],
      "execution_count": null,
      "outputs": [
        {
          "output_type": "stream",
          "text": [
            "Confusion Matrix: \n"
          ],
          "name": "stdout"
        },
        {
          "output_type": "execute_result",
          "data": {
            "text/html": [
              "<div>\n",
              "<style scoped>\n",
              "    .dataframe tbody tr th:only-of-type {\n",
              "        vertical-align: middle;\n",
              "    }\n",
              "\n",
              "    .dataframe tbody tr th {\n",
              "        vertical-align: top;\n",
              "    }\n",
              "\n",
              "    .dataframe thead tr th {\n",
              "        text-align: left;\n",
              "    }\n",
              "</style>\n",
              "<table border=\"1\" class=\"dataframe\">\n",
              "  <thead>\n",
              "    <tr>\n",
              "      <th></th>\n",
              "      <th>3</th>\n",
              "      <th>4</th>\n",
              "      <th>5</th>\n",
              "      <th>6</th>\n",
              "      <th>7</th>\n",
              "      <th>8</th>\n",
              "    </tr>\n",
              "  </thead>\n",
              "  <tbody>\n",
              "    <tr>\n",
              "      <th>3</th>\n",
              "      <td>0</td>\n",
              "      <td>0</td>\n",
              "      <td>3</td>\n",
              "      <td>0</td>\n",
              "      <td>0</td>\n",
              "      <td>0</td>\n",
              "    </tr>\n",
              "    <tr>\n",
              "      <th>4</th>\n",
              "      <td>1</td>\n",
              "      <td>0</td>\n",
              "      <td>10</td>\n",
              "      <td>2</td>\n",
              "      <td>0</td>\n",
              "      <td>0</td>\n",
              "    </tr>\n",
              "    <tr>\n",
              "      <th>5</th>\n",
              "      <td>0</td>\n",
              "      <td>0</td>\n",
              "      <td>170</td>\n",
              "      <td>35</td>\n",
              "      <td>2</td>\n",
              "      <td>0</td>\n",
              "    </tr>\n",
              "    <tr>\n",
              "      <th>6</th>\n",
              "      <td>0</td>\n",
              "      <td>0</td>\n",
              "      <td>55</td>\n",
              "      <td>132</td>\n",
              "      <td>11</td>\n",
              "      <td>1</td>\n",
              "    </tr>\n",
              "    <tr>\n",
              "      <th>7</th>\n",
              "      <td>0</td>\n",
              "      <td>0</td>\n",
              "      <td>3</td>\n",
              "      <td>26</td>\n",
              "      <td>23</td>\n",
              "      <td>0</td>\n",
              "    </tr>\n",
              "    <tr>\n",
              "      <th>8</th>\n",
              "      <td>0</td>\n",
              "      <td>0</td>\n",
              "      <td>0</td>\n",
              "      <td>2</td>\n",
              "      <td>3</td>\n",
              "      <td>1</td>\n",
              "    </tr>\n",
              "  </tbody>\n",
              "</table>\n",
              "</div>"
            ],
            "text/plain": [
              "   3  4    5    6   7  8\n",
              "3  0  0    3    0   0  0\n",
              "4  1  0   10    2   0  0\n",
              "5  0  0  170   35   2  0\n",
              "6  0  0   55  132  11  1\n",
              "7  0  0    3   26  23  0\n",
              "8  0  0    0    2   3  1"
            ]
          },
          "metadata": {
            "tags": []
          },
          "execution_count": 32
        }
      ]
    },
    {
      "cell_type": "code",
      "metadata": {
        "colab": {
          "base_uri": "https://localhost:8080/"
        },
        "id": "v03dN-13u7tx",
        "outputId": "cc8d2839-7685-4a08-bf83-aba300b31665"
      },
      "source": [
        "rfc_as = metrics.accuracy_score(y_test,rfc_pred)\n",
        "print(\"Accuracy Score: {}\\n\\n\".format(rfc_as))\n",
        "print(\"Classification Report: \\n{}\".format(metrics.classification_report(y_test,rfc_pred)))"
      ],
      "execution_count": null,
      "outputs": [
        {
          "output_type": "stream",
          "text": [
            "Accuracy Score: 0.6791666666666667\n",
            "\n",
            "\n",
            "Classification Report: \n",
            "              precision    recall  f1-score   support\n",
            "\n",
            "           3       0.00      0.00      0.00         3\n",
            "           4       0.00      0.00      0.00        13\n",
            "           5       0.71      0.82      0.76       207\n",
            "           6       0.67      0.66      0.67       199\n",
            "           7       0.59      0.44      0.51        52\n",
            "           8       0.50      0.17      0.25         6\n",
            "\n",
            "    accuracy                           0.68       480\n",
            "   macro avg       0.41      0.35      0.36       480\n",
            "weighted avg       0.65      0.68      0.66       480\n",
            "\n"
          ],
          "name": "stdout"
        },
        {
          "output_type": "stream",
          "text": [
            "/usr/local/lib/python3.6/dist-packages/sklearn/metrics/_classification.py:1272: UndefinedMetricWarning: Precision and F-score are ill-defined and being set to 0.0 in labels with no predicted samples. Use `zero_division` parameter to control this behavior.\n",
            "  _warn_prf(average, modifier, msg_start, len(result))\n"
          ],
          "name": "stderr"
        }
      ]
    },
    {
      "cell_type": "markdown",
      "metadata": {
        "id": "zIb8ef4_u-Lr"
      },
      "source": [
        "**1.1.4 K Nearest Neighbors**"
      ]
    },
    {
      "cell_type": "code",
      "metadata": {
        "id": "18hS3qWou_sU"
      },
      "source": [
        "from sklearn.neighbors import KNeighborsClassifier"
      ],
      "execution_count": null,
      "outputs": []
    },
    {
      "cell_type": "code",
      "metadata": {
        "id": "6iBCDq4tvByg"
      },
      "source": [
        "knn = KNeighborsClassifier(n_neighbors=1)"
      ],
      "execution_count": null,
      "outputs": []
    },
    {
      "cell_type": "code",
      "metadata": {
        "colab": {
          "base_uri": "https://localhost:8080/"
        },
        "id": "BHeY72u2vEKM",
        "outputId": "4b493411-e20a-4e6b-c14b-4a56d8361e21"
      },
      "source": [
        "knn.fit(X_train,y_train)"
      ],
      "execution_count": null,
      "outputs": [
        {
          "output_type": "execute_result",
          "data": {
            "text/plain": [
              "KNeighborsClassifier(algorithm='auto', leaf_size=30, metric='minkowski',\n",
              "                     metric_params=None, n_jobs=None, n_neighbors=1, p=2,\n",
              "                     weights='uniform')"
            ]
          },
          "metadata": {
            "tags": []
          },
          "execution_count": 36
        }
      ]
    },
    {
      "cell_type": "code",
      "metadata": {
        "id": "WCnrybAjvF-B"
      },
      "source": [
        "knn_pred = knn.predict(X_test)"
      ],
      "execution_count": null,
      "outputs": []
    },
    {
      "cell_type": "code",
      "metadata": {
        "colab": {
          "base_uri": "https://localhost:8080/",
          "height": 252
        },
        "id": "eaQBpp41vIPs",
        "outputId": "9433dad5-e392-409d-b63d-4dc77af25a62"
      },
      "source": [
        "knn_conf_matrix = pd.DataFrame(data=metrics.confusion_matrix(y_test,knn_pred),index=[[3,4,5,6,7,8]], columns=[[3,4,5,6,7,8]])\n",
        "print(\"Confusion Matrix: \")\n",
        "knn_conf_matrix"
      ],
      "execution_count": null,
      "outputs": [
        {
          "output_type": "stream",
          "text": [
            "Confusion Matrix: \n"
          ],
          "name": "stdout"
        },
        {
          "output_type": "execute_result",
          "data": {
            "text/html": [
              "<div>\n",
              "<style scoped>\n",
              "    .dataframe tbody tr th:only-of-type {\n",
              "        vertical-align: middle;\n",
              "    }\n",
              "\n",
              "    .dataframe tbody tr th {\n",
              "        vertical-align: top;\n",
              "    }\n",
              "\n",
              "    .dataframe thead tr th {\n",
              "        text-align: left;\n",
              "    }\n",
              "</style>\n",
              "<table border=\"1\" class=\"dataframe\">\n",
              "  <thead>\n",
              "    <tr>\n",
              "      <th></th>\n",
              "      <th>3</th>\n",
              "      <th>4</th>\n",
              "      <th>5</th>\n",
              "      <th>6</th>\n",
              "      <th>7</th>\n",
              "      <th>8</th>\n",
              "    </tr>\n",
              "  </thead>\n",
              "  <tbody>\n",
              "    <tr>\n",
              "      <th>3</th>\n",
              "      <td>0</td>\n",
              "      <td>2</td>\n",
              "      <td>1</td>\n",
              "      <td>0</td>\n",
              "      <td>0</td>\n",
              "      <td>0</td>\n",
              "    </tr>\n",
              "    <tr>\n",
              "      <th>4</th>\n",
              "      <td>1</td>\n",
              "      <td>1</td>\n",
              "      <td>6</td>\n",
              "      <td>5</td>\n",
              "      <td>0</td>\n",
              "      <td>0</td>\n",
              "    </tr>\n",
              "    <tr>\n",
              "      <th>5</th>\n",
              "      <td>3</td>\n",
              "      <td>5</td>\n",
              "      <td>150</td>\n",
              "      <td>40</td>\n",
              "      <td>9</td>\n",
              "      <td>0</td>\n",
              "    </tr>\n",
              "    <tr>\n",
              "      <th>6</th>\n",
              "      <td>0</td>\n",
              "      <td>4</td>\n",
              "      <td>54</td>\n",
              "      <td>123</td>\n",
              "      <td>18</td>\n",
              "      <td>0</td>\n",
              "    </tr>\n",
              "    <tr>\n",
              "      <th>7</th>\n",
              "      <td>0</td>\n",
              "      <td>0</td>\n",
              "      <td>7</td>\n",
              "      <td>14</td>\n",
              "      <td>30</td>\n",
              "      <td>1</td>\n",
              "    </tr>\n",
              "    <tr>\n",
              "      <th>8</th>\n",
              "      <td>0</td>\n",
              "      <td>0</td>\n",
              "      <td>0</td>\n",
              "      <td>1</td>\n",
              "      <td>4</td>\n",
              "      <td>1</td>\n",
              "    </tr>\n",
              "  </tbody>\n",
              "</table>\n",
              "</div>"
            ],
            "text/plain": [
              "   3  4    5    6   7  8\n",
              "3  0  2    1    0   0  0\n",
              "4  1  1    6    5   0  0\n",
              "5  3  5  150   40   9  0\n",
              "6  0  4   54  123  18  0\n",
              "7  0  0    7   14  30  1\n",
              "8  0  0    0    1   4  1"
            ]
          },
          "metadata": {
            "tags": []
          },
          "execution_count": 38
        }
      ]
    },
    {
      "cell_type": "code",
      "metadata": {
        "colab": {
          "base_uri": "https://localhost:8080/"
        },
        "id": "xNALhvlWvKfl",
        "outputId": "5899fc1d-d651-435f-d2e8-baa42becf423"
      },
      "source": [
        "knn_as = metrics.accuracy_score(y_test,knn_pred)\n",
        "print(\"Accuracy Score: {}\\n\\n\".format(knn_as))\n",
        "print(\"Classification Report: \\n{}\".format(metrics.classification_report(y_test,knn_pred)))"
      ],
      "execution_count": null,
      "outputs": [
        {
          "output_type": "stream",
          "text": [
            "Accuracy Score: 0.6354166666666666\n",
            "\n",
            "\n",
            "Classification Report: \n",
            "              precision    recall  f1-score   support\n",
            "\n",
            "           3       0.00      0.00      0.00         3\n",
            "           4       0.08      0.08      0.08        13\n",
            "           5       0.69      0.72      0.71       207\n",
            "           6       0.67      0.62      0.64       199\n",
            "           7       0.49      0.58      0.53        52\n",
            "           8       0.50      0.17      0.25         6\n",
            "\n",
            "    accuracy                           0.64       480\n",
            "   macro avg       0.41      0.36      0.37       480\n",
            "weighted avg       0.64      0.64      0.63       480\n",
            "\n"
          ],
          "name": "stdout"
        }
      ]
    },
    {
      "cell_type": "markdown",
      "metadata": {
        "id": "sm8NoJ0EvNDK"
      },
      "source": [
        "**1.1.5 Support Vector Machine**"
      ]
    },
    {
      "cell_type": "code",
      "metadata": {
        "id": "KjvxdZ-PvOS3"
      },
      "source": [
        "from sklearn.svm import SVC"
      ],
      "execution_count": null,
      "outputs": []
    },
    {
      "cell_type": "code",
      "metadata": {
        "id": "Xhip2jshvY70"
      },
      "source": [
        "svm = SVC()"
      ],
      "execution_count": null,
      "outputs": []
    },
    {
      "cell_type": "code",
      "metadata": {
        "colab": {
          "base_uri": "https://localhost:8080/"
        },
        "id": "BpT_yuWhvbpB",
        "outputId": "5fd293a5-a930-4139-fda7-f523598bed97"
      },
      "source": [
        "svm.fit(X_train,y_train)"
      ],
      "execution_count": null,
      "outputs": [
        {
          "output_type": "execute_result",
          "data": {
            "text/plain": [
              "SVC(C=1.0, break_ties=False, cache_size=200, class_weight=None, coef0=0.0,\n",
              "    decision_function_shape='ovr', degree=3, gamma='scale', kernel='rbf',\n",
              "    max_iter=-1, probability=False, random_state=None, shrinking=True,\n",
              "    tol=0.001, verbose=False)"
            ]
          },
          "metadata": {
            "tags": []
          },
          "execution_count": 42
        }
      ]
    },
    {
      "cell_type": "code",
      "metadata": {
        "id": "E33YSu96veXq"
      },
      "source": [
        "svm_pred = svm.predict(X_test)"
      ],
      "execution_count": null,
      "outputs": []
    },
    {
      "cell_type": "code",
      "metadata": {
        "colab": {
          "base_uri": "https://localhost:8080/",
          "height": 252
        },
        "id": "wgnv2v__vf6G",
        "outputId": "014c724e-f656-49c3-dcc1-390f5667ca7b"
      },
      "source": [
        "svm_conf_matrix = pd.DataFrame(data=metrics.confusion_matrix(y_test,svm_pred),index=[[3,4,5,6,7,8]], columns=[[3,4,5,6,7,8]])\n",
        "print(\"Confusion Matrix: \")\n",
        "svm_conf_matrix"
      ],
      "execution_count": null,
      "outputs": [
        {
          "output_type": "stream",
          "text": [
            "Confusion Matrix: \n"
          ],
          "name": "stdout"
        },
        {
          "output_type": "execute_result",
          "data": {
            "text/html": [
              "<div>\n",
              "<style scoped>\n",
              "    .dataframe tbody tr th:only-of-type {\n",
              "        vertical-align: middle;\n",
              "    }\n",
              "\n",
              "    .dataframe tbody tr th {\n",
              "        vertical-align: top;\n",
              "    }\n",
              "\n",
              "    .dataframe thead tr th {\n",
              "        text-align: left;\n",
              "    }\n",
              "</style>\n",
              "<table border=\"1\" class=\"dataframe\">\n",
              "  <thead>\n",
              "    <tr>\n",
              "      <th></th>\n",
              "      <th>3</th>\n",
              "      <th>4</th>\n",
              "      <th>5</th>\n",
              "      <th>6</th>\n",
              "      <th>7</th>\n",
              "      <th>8</th>\n",
              "    </tr>\n",
              "  </thead>\n",
              "  <tbody>\n",
              "    <tr>\n",
              "      <th>3</th>\n",
              "      <td>0</td>\n",
              "      <td>0</td>\n",
              "      <td>3</td>\n",
              "      <td>0</td>\n",
              "      <td>0</td>\n",
              "      <td>0</td>\n",
              "    </tr>\n",
              "    <tr>\n",
              "      <th>4</th>\n",
              "      <td>0</td>\n",
              "      <td>0</td>\n",
              "      <td>9</td>\n",
              "      <td>4</td>\n",
              "      <td>0</td>\n",
              "      <td>0</td>\n",
              "    </tr>\n",
              "    <tr>\n",
              "      <th>5</th>\n",
              "      <td>0</td>\n",
              "      <td>0</td>\n",
              "      <td>171</td>\n",
              "      <td>34</td>\n",
              "      <td>2</td>\n",
              "      <td>0</td>\n",
              "    </tr>\n",
              "    <tr>\n",
              "      <th>6</th>\n",
              "      <td>0</td>\n",
              "      <td>0</td>\n",
              "      <td>70</td>\n",
              "      <td>122</td>\n",
              "      <td>7</td>\n",
              "      <td>0</td>\n",
              "    </tr>\n",
              "    <tr>\n",
              "      <th>7</th>\n",
              "      <td>0</td>\n",
              "      <td>0</td>\n",
              "      <td>4</td>\n",
              "      <td>32</td>\n",
              "      <td>16</td>\n",
              "      <td>0</td>\n",
              "    </tr>\n",
              "    <tr>\n",
              "      <th>8</th>\n",
              "      <td>0</td>\n",
              "      <td>0</td>\n",
              "      <td>0</td>\n",
              "      <td>4</td>\n",
              "      <td>2</td>\n",
              "      <td>0</td>\n",
              "    </tr>\n",
              "  </tbody>\n",
              "</table>\n",
              "</div>"
            ],
            "text/plain": [
              "   3  4    5    6   7  8\n",
              "3  0  0    3    0   0  0\n",
              "4  0  0    9    4   0  0\n",
              "5  0  0  171   34   2  0\n",
              "6  0  0   70  122   7  0\n",
              "7  0  0    4   32  16  0\n",
              "8  0  0    0    4   2  0"
            ]
          },
          "metadata": {
            "tags": []
          },
          "execution_count": 44
        }
      ]
    },
    {
      "cell_type": "code",
      "metadata": {
        "colab": {
          "base_uri": "https://localhost:8080/"
        },
        "id": "PoIXMOICvh4G",
        "outputId": "60f036d3-f7f5-47e5-a9af-193aae96e38f"
      },
      "source": [
        "svm_as = metrics.accuracy_score(y_test,svm_pred)\n",
        "print(\"Accuracy Score: {}\\n\\n\".format(svm_as))\n",
        "print(\"Classification Report: \\n{}\".format(metrics.classification_report(y_test,svm_pred)))"
      ],
      "execution_count": null,
      "outputs": [
        {
          "output_type": "stream",
          "text": [
            "Accuracy Score: 0.64375\n",
            "\n",
            "\n",
            "Classification Report: \n",
            "              precision    recall  f1-score   support\n",
            "\n",
            "           3       0.00      0.00      0.00         3\n",
            "           4       0.00      0.00      0.00        13\n",
            "           5       0.67      0.83      0.74       207\n",
            "           6       0.62      0.61      0.62       199\n",
            "           7       0.59      0.31      0.41        52\n",
            "           8       0.00      0.00      0.00         6\n",
            "\n",
            "    accuracy                           0.64       480\n",
            "   macro avg       0.31      0.29      0.29       480\n",
            "weighted avg       0.61      0.64      0.62       480\n",
            "\n"
          ],
          "name": "stdout"
        },
        {
          "output_type": "stream",
          "text": [
            "/usr/local/lib/python3.6/dist-packages/sklearn/metrics/_classification.py:1272: UndefinedMetricWarning: Precision and F-score are ill-defined and being set to 0.0 in labels with no predicted samples. Use `zero_division` parameter to control this behavior.\n",
            "  _warn_prf(average, modifier, msg_start, len(result))\n"
          ],
          "name": "stderr"
        }
      ]
    },
    {
      "cell_type": "code",
      "metadata": {
        "colab": {
          "base_uri": "https://localhost:8080/",
          "height": 221
        },
        "id": "CVNAsFmivkN2",
        "outputId": "3d5d7e22-cd3e-44e8-c414-dfa9b69200ea"
      },
      "source": [
        "summary_table_1_1 = pd.DataFrame([lr_as,dtc_as,rfc_as,knn_as,svm_as],index=['Logistic Regression', 'Decision Tree', 'Random Forest', 'KNN', 'SVM'], columns=['Accuracy Score'])\n",
        "print(\"Summary Table for Section 1.1\")\n",
        "summary_table_1_1"
      ],
      "execution_count": null,
      "outputs": [
        {
          "output_type": "stream",
          "text": [
            "Summary Table for Section 1.1\n"
          ],
          "name": "stdout"
        },
        {
          "output_type": "execute_result",
          "data": {
            "text/html": [
              "<div>\n",
              "<style scoped>\n",
              "    .dataframe tbody tr th:only-of-type {\n",
              "        vertical-align: middle;\n",
              "    }\n",
              "\n",
              "    .dataframe tbody tr th {\n",
              "        vertical-align: top;\n",
              "    }\n",
              "\n",
              "    .dataframe thead th {\n",
              "        text-align: right;\n",
              "    }\n",
              "</style>\n",
              "<table border=\"1\" class=\"dataframe\">\n",
              "  <thead>\n",
              "    <tr style=\"text-align: right;\">\n",
              "      <th></th>\n",
              "      <th>Accuracy Score</th>\n",
              "    </tr>\n",
              "  </thead>\n",
              "  <tbody>\n",
              "    <tr>\n",
              "      <th>Logistic Regression</th>\n",
              "      <td>0.620833</td>\n",
              "    </tr>\n",
              "    <tr>\n",
              "      <th>Decision Tree</th>\n",
              "      <td>0.600000</td>\n",
              "    </tr>\n",
              "    <tr>\n",
              "      <th>Random Forest</th>\n",
              "      <td>0.679167</td>\n",
              "    </tr>\n",
              "    <tr>\n",
              "      <th>KNN</th>\n",
              "      <td>0.635417</td>\n",
              "    </tr>\n",
              "    <tr>\n",
              "      <th>SVM</th>\n",
              "      <td>0.643750</td>\n",
              "    </tr>\n",
              "  </tbody>\n",
              "</table>\n",
              "</div>"
            ],
            "text/plain": [
              "                     Accuracy Score\n",
              "Logistic Regression        0.620833\n",
              "Decision Tree              0.600000\n",
              "Random Forest              0.679167\n",
              "KNN                        0.635417\n",
              "SVM                        0.643750"
            ]
          },
          "metadata": {
            "tags": []
          },
          "execution_count": 46
        }
      ]
    },
    {
      "cell_type": "code",
      "metadata": {
        "colab": {
          "base_uri": "https://localhost:8080/",
          "height": 391
        },
        "id": "u3LPysh1vmAt",
        "outputId": "2f7dd3d4-b318-4e71-e72d-fbe3e5d1ff8e"
      },
      "source": [
        "plt.figure(figsize=(10,5))\n",
        "sns.pointplot(summary_table_1_1.index,summary_table_1_1['Accuracy Score'])"
      ],
      "execution_count": null,
      "outputs": [
        {
          "output_type": "stream",
          "text": [
            "/usr/local/lib/python3.6/dist-packages/seaborn/_decorators.py:43: FutureWarning: Pass the following variables as keyword args: x, y. From version 0.12, the only valid positional argument will be `data`, and passing other arguments without an explicit keyword will result in an error or misinterpretation.\n",
            "  FutureWarning\n"
          ],
          "name": "stderr"
        },
        {
          "output_type": "execute_result",
          "data": {
            "text/plain": [
              "<matplotlib.axes._subplots.AxesSubplot at 0x7f1e25690e48>"
            ]
          },
          "metadata": {
            "tags": []
          },
          "execution_count": 47
        },
        {
          "output_type": "display_data",
          "data": {
            "image/png": "[encoded data removed]",
            "text/plain": [
              "<Figure size 720x360 with 1 Axes>"
            ]
          },
          "metadata": {
            "tags": [],
            "needs_background": "light"
          }
        }
      ]
    },
    {
      "cell_type": "markdown",
      "metadata": {
        "id": "4y1OOn3Evo8M"
      },
      "source": [
        "**Conclusion:**\n",
        "\n",
        "From the summary table, we can see that the accuracy is low in all the models.\n",
        "\n",
        "**1.2 K-Fold Cross-Validation Method**\n",
        "\n",
        "For SVM, we shall perform Grid Search instead of Cross Validation."
      ]
    },
    {
      "cell_type": "code",
      "metadata": {
        "id": "3JX_KX9vvuaB"
      },
      "source": [
        "from sklearn.model_selection import cross_val_score"
      ],
      "execution_count": null,
      "outputs": []
    },
    {
      "cell_type": "code",
      "metadata": {
        "id": "hfwe5iwSvxlE"
      },
      "source": [
        "lr_cross = LogisticRegression()\n",
        "dtc_cross = DecisionTreeClassifier()\n",
        "rfc_cross = RandomForestClassifier(n_estimators=20)\n",
        "knn_cross = KNeighborsClassifier(n_neighbors=1)\n",
        "svm_grid = SVC()"
      ],
      "execution_count": null,
      "outputs": []
    },
    {
      "cell_type": "code",
      "metadata": {
        "id": "8b0oyVSZvzMq",
        "colab": {
          "base_uri": "https://localhost:8080/"
        },
        "outputId": "a5c4e432-5135-4050-9dc5-f463df3c33e7"
      },
      "source": [
        "lr_scores = cross_val_score(lr_cross,X,y,cv=10,scoring='accuracy')\n",
        "dtc_scores = cross_val_score(dtc_cross,X,y,cv=10,scoring='accuracy')\n",
        "rfc_scores = cross_val_score(rfc_cross,X,y,cv=10,scoring='accuracy')\n",
        "knn_scores = cross_val_score(knn_cross,X,y,cv=10,scoring='accuracy')"
      ],
      "execution_count": null,
      "outputs": [
        {
          "output_type": "stream",
          "text": [
            "/usr/local/lib/python3.6/dist-packages/sklearn/linear_model/_logistic.py:940: ConvergenceWarning: lbfgs failed to converge (status=1):\n",
            "STOP: TOTAL NO. of ITERATIONS REACHED LIMIT.\n",
            "\n",
            "Increase the number of iterations (max_iter) or scale the data as shown in:\n",
            "    https://scikit-learn.org/stable/modules/preprocessing.html\n",
            "Please also refer to the documentation for alternative solver options:\n",
            "    https://scikit-learn.org/stable/modules/linear_model.html#logistic-regression\n",
            "  extra_warning_msg=_LOGISTIC_SOLVER_CONVERGENCE_MSG)\n",
            "/usr/local/lib/python3.6/dist-packages/sklearn/linear_model/_logistic.py:940: ConvergenceWarning: lbfgs failed to converge (status=1):\n",
            "STOP: TOTAL NO. of ITERATIONS REACHED LIMIT.\n",
            "\n",
            "Increase the number of iterations (max_iter) or scale the data as shown in:\n",
            "    https://scikit-learn.org/stable/modules/preprocessing.html\n",
            "Please also refer to the documentation for alternative solver options:\n",
            "    https://scikit-learn.org/stable/modules/linear_model.html#logistic-regression\n",
            "  extra_warning_msg=_LOGISTIC_SOLVER_CONVERGENCE_MSG)\n",
            "/usr/local/lib/python3.6/dist-packages/sklearn/linear_model/_logistic.py:940: ConvergenceWarning: lbfgs failed to converge (status=1):\n",
            "STOP: TOTAL NO. of ITERATIONS REACHED LIMIT.\n",
            "\n",
            "Increase the number of iterations (max_iter) or scale the data as shown in:\n",
            "    https://scikit-learn.org/stable/modules/preprocessing.html\n",
            "Please also refer to the documentation for alternative solver options:\n",
            "    https://scikit-learn.org/stable/modules/linear_model.html#logistic-regression\n",
            "  extra_warning_msg=_LOGISTIC_SOLVER_CONVERGENCE_MSG)\n",
            "/usr/local/lib/python3.6/dist-packages/sklearn/linear_model/_logistic.py:940: ConvergenceWarning: lbfgs failed to converge (status=1):\n",
            "STOP: TOTAL NO. of ITERATIONS REACHED LIMIT.\n",
            "\n",
            "Increase the number of iterations (max_iter) or scale the data as shown in:\n",
            "    https://scikit-learn.org/stable/modules/preprocessing.html\n",
            "Please also refer to the documentation for alternative solver options:\n",
            "    https://scikit-learn.org/stable/modules/linear_model.html#logistic-regression\n",
            "  extra_warning_msg=_LOGISTIC_SOLVER_CONVERGENCE_MSG)\n",
            "/usr/local/lib/python3.6/dist-packages/sklearn/linear_model/_logistic.py:940: ConvergenceWarning: lbfgs failed to converge (status=1):\n",
            "STOP: TOTAL NO. of ITERATIONS REACHED LIMIT.\n",
            "\n",
            "Increase the number of iterations (max_iter) or scale the data as shown in:\n",
            "    https://scikit-learn.org/stable/modules/preprocessing.html\n",
            "Please also refer to the documentation for alternative solver options:\n",
            "    https://scikit-learn.org/stable/modules/linear_model.html#logistic-regression\n",
            "  extra_warning_msg=_LOGISTIC_SOLVER_CONVERGENCE_MSG)\n",
            "/usr/local/lib/python3.6/dist-packages/sklearn/linear_model/_logistic.py:940: ConvergenceWarning: lbfgs failed to converge (status=1):\n",
            "STOP: TOTAL NO. of ITERATIONS REACHED LIMIT.\n",
            "\n",
            "Increase the number of iterations (max_iter) or scale the data as shown in:\n",
            "    https://scikit-learn.org/stable/modules/preprocessing.html\n",
            "Please also refer to the documentation for alternative solver options:\n",
            "    https://scikit-learn.org/stable/modules/linear_model.html#logistic-regression\n",
            "  extra_warning_msg=_LOGISTIC_SOLVER_CONVERGENCE_MSG)\n",
            "/usr/local/lib/python3.6/dist-packages/sklearn/linear_model/_logistic.py:940: ConvergenceWarning: lbfgs failed to converge (status=1):\n",
            "STOP: TOTAL NO. of ITERATIONS REACHED LIMIT.\n",
            "\n",
            "Increase the number of iterations (max_iter) or scale the data as shown in:\n",
            "    https://scikit-learn.org/stable/modules/preprocessing.html\n",
            "Please also refer to the documentation for alternative solver options:\n",
            "    https://scikit-learn.org/stable/modules/linear_model.html#logistic-regression\n",
            "  extra_warning_msg=_LOGISTIC_SOLVER_CONVERGENCE_MSG)\n",
            "/usr/local/lib/python3.6/dist-packages/sklearn/linear_model/_logistic.py:940: ConvergenceWarning: lbfgs failed to converge (status=1):\n",
            "STOP: TOTAL NO. of ITERATIONS REACHED LIMIT.\n",
            "\n",
            "Increase the number of iterations (max_iter) or scale the data as shown in:\n",
            "    https://scikit-learn.org/stable/modules/preprocessing.html\n",
            "Please also refer to the documentation for alternative solver options:\n",
            "    https://scikit-learn.org/stable/modules/linear_model.html#logistic-regression\n",
            "  extra_warning_msg=_LOGISTIC_SOLVER_CONVERGENCE_MSG)\n"
          ],
          "name": "stderr"
        }
      ]
    },
    {
      "cell_type": "markdown",
      "metadata": {
        "id": "xqbnc27mv1I9"
      },
      "source": [
        "**GridSearch for SVM**"
      ]
    },
    {
      "cell_type": "code",
      "metadata": {
        "id": "wb7zwN9Fv24o"
      },
      "source": [
        "from sklearn.model_selection import GridSearchCV"
      ],
      "execution_count": null,
      "outputs": []
    },
    {
      "cell_type": "code",
      "metadata": {
        "id": "yBX11AJzv54i"
      },
      "source": [
        "param_grid = {'C':[0.1,1,100,1000], 'gamma':[1,0.1,0.01,0.001,0.0001]}"
      ],
      "execution_count": null,
      "outputs": []
    },
    {
      "cell_type": "code",
      "metadata": {
        "id": "d24fjuPvv77C"
      },
      "source": [
        "grid = GridSearchCV(svm_grid,param_grid)"
      ],
      "execution_count": null,
      "outputs": []
    },
    {
      "cell_type": "code",
      "metadata": {
        "id": "E-Skqm-Hv9dS",
        "colab": {
          "base_uri": "https://localhost:8080/"
        },
        "outputId": "011a79c2-1d6c-4ddf-c7e8-70b117954a1e"
      },
      "source": [
        "grid.fit(X_train,y_train)"
      ],
      "execution_count": null,
      "outputs": [
        {
          "output_type": "execute_result",
          "data": {
            "text/plain": [
              "GridSearchCV(cv=None, error_score=nan,\n",
              "             estimator=SVC(C=1.0, break_ties=False, cache_size=200,\n",
              "                           class_weight=None, coef0=0.0,\n",
              "                           decision_function_shape='ovr', degree=3,\n",
              "                           gamma='scale', kernel='rbf', max_iter=-1,\n",
              "                           probability=False, random_state=None, shrinking=True,\n",
              "                           tol=0.001, verbose=False),\n",
              "             iid='deprecated', n_jobs=None,\n",
              "             param_grid={'C': [0.1, 1, 100, 1000],\n",
              "                         'gamma': [1, 0.1, 0.01, 0.001, 0.0001]},\n",
              "             pre_dispatch='2*n_jobs', refit=True, return_train_score=False,\n",
              "             scoring=None, verbose=0)"
            ]
          },
          "metadata": {
            "tags": []
          },
          "execution_count": 54
        }
      ]
    },
    {
      "cell_type": "code",
      "metadata": {
        "id": "6zRb5Dhrv_VG"
      },
      "source": [
        "grid_predicitons = grid.predict(X_test)"
      ],
      "execution_count": null,
      "outputs": []
    },
    {
      "cell_type": "code",
      "metadata": {
        "id": "sfQM7YIqwAuA"
      },
      "source": [
        "svm_grid_score = metrics.accuracy_score(y_test,grid_predicitons)"
      ],
      "execution_count": null,
      "outputs": []
    },
    {
      "cell_type": "code",
      "metadata": {
        "id": "XqfjLqr6wCeJ",
        "colab": {
          "base_uri": "https://localhost:8080/",
          "height": 221
        },
        "outputId": "22d0060d-2d7e-4c8a-e9cc-df7d5394370d"
      },
      "source": [
        "summary_table_1_2 = pd.DataFrame([lr_scores.mean(),dtc_scores.mean(),rfc_scores.mean(),knn_scores.mean(),svm_grid_score],index=['Logistic Regression', 'Decision Tree', 'Random Forest', 'KNN', 'SVM'], columns=['Accuracy Score'])\n",
        "print(\"Summary Table for Section 1.2\")\n",
        "summary_table_1_2"
      ],
      "execution_count": null,
      "outputs": [
        {
          "output_type": "stream",
          "text": [
            "Summary Table for Section 1.2\n"
          ],
          "name": "stdout"
        },
        {
          "output_type": "execute_result",
          "data": {
            "text/html": [
              "<div>\n",
              "<style scoped>\n",
              "    .dataframe tbody tr th:only-of-type {\n",
              "        vertical-align: middle;\n",
              "    }\n",
              "\n",
              "    .dataframe tbody tr th {\n",
              "        vertical-align: top;\n",
              "    }\n",
              "\n",
              "    .dataframe thead th {\n",
              "        text-align: right;\n",
              "    }\n",
              "</style>\n",
              "<table border=\"1\" class=\"dataframe\">\n",
              "  <thead>\n",
              "    <tr style=\"text-align: right;\">\n",
              "      <th></th>\n",
              "      <th>Accuracy Score</th>\n",
              "    </tr>\n",
              "  </thead>\n",
              "  <tbody>\n",
              "    <tr>\n",
              "      <th>Logistic Regression</th>\n",
              "      <td>0.590366</td>\n",
              "    </tr>\n",
              "    <tr>\n",
              "      <th>Decision Tree</th>\n",
              "      <td>0.476549</td>\n",
              "    </tr>\n",
              "    <tr>\n",
              "      <th>Random Forest</th>\n",
              "      <td>0.554116</td>\n",
              "    </tr>\n",
              "    <tr>\n",
              "      <th>KNN</th>\n",
              "      <td>0.488483</td>\n",
              "    </tr>\n",
              "    <tr>\n",
              "      <th>SVM</th>\n",
              "      <td>0.660417</td>\n",
              "    </tr>\n",
              "  </tbody>\n",
              "</table>\n",
              "</div>"
            ],
            "text/plain": [
              "                     Accuracy Score\n",
              "Logistic Regression        0.590366\n",
              "Decision Tree              0.476549\n",
              "Random Forest              0.554116\n",
              "KNN                        0.488483\n",
              "SVM                        0.660417"
            ]
          },
          "metadata": {
            "tags": []
          },
          "execution_count": 57
        }
      ]
    },
    {
      "cell_type": "code",
      "metadata": {
        "id": "UdmG8-9IwFmE",
        "colab": {
          "base_uri": "https://localhost:8080/",
          "height": 391
        },
        "outputId": "f62ed9aa-ef5e-43b1-d071-cd461f14d479"
      },
      "source": [
        "plt.figure(figsize=(10,5))\n",
        "sns.pointplot(summary_table_1_2.index,summary_table_1_2['Accuracy Score'])"
      ],
      "execution_count": null,
      "outputs": [
        {
          "output_type": "stream",
          "text": [
            "/usr/local/lib/python3.6/dist-packages/seaborn/_decorators.py:43: FutureWarning: Pass the following variables as keyword args: x, y. From version 0.12, the only valid positional argument will be `data`, and passing other arguments without an explicit keyword will result in an error or misinterpretation.\n",
            "  FutureWarning\n"
          ],
          "name": "stderr"
        },
        {
          "output_type": "execute_result",
          "data": {
            "text/plain": [
              "<matplotlib.axes._subplots.AxesSubplot at 0x7f1e2a7587f0>"
            ]
          },
          "metadata": {
            "tags": []
          },
          "execution_count": 58
        },
        {
          "output_type": "display_data",
          "data": {
            "image/png": "[encoded data removed]",
            "text/plain": [
              "<Figure size 720x360 with 1 Axes>"
            ]
          },
          "metadata": {
            "tags": [],
            "needs_background": "light"
          }
        }
      ]
    },
    {
      "cell_type": "markdown",
      "metadata": {
        "id": "WRpvwHLGwK9E"
      },
      "source": [
        "**Conclusion:**\n",
        "\n",
        "Again, there seems to be no improvement in the Accuracy Scores in all the models.\n",
        "\n",
        "Hence, we shall apply some cut-off our Dependent Variable(Quality) which will help in reducing the number of classes.\n",
        "\n",
        "**2. Prediction with arbitrary cut-off for Quality(Dependent Variable)**\n",
        "\n",
        "Let us encode the quality as follows to check if there is any improvement in scores:\n",
        "\n",
        "**3-4 : Poor**\n",
        "\n",
        "**5-6 : Average**\n",
        "\n",
        "**7-8 : Good**\n",
        "\n",
        "Also, we will directly use the cross-validation method to the perform the prediction\n",
        "\n",
        "Quality Encoding"
      ]
    },
    {
      "cell_type": "code",
      "metadata": {
        "id": "BX5yoEf-xje9"
      },
      "source": [
        "def add_encode(quality):\n",
        "    if quality == 3 or quality == 4:\n",
        "        return 0\n",
        "    elif quality == 5 or quality == 6:\n",
        "        return 1\n",
        "    else:\n",
        "        return 2"
      ],
      "execution_count": null,
      "outputs": []
    },
    {
      "cell_type": "code",
      "metadata": {
        "id": "ukxSr9yuxmrY"
      },
      "source": [
        "wine['quality_encoding'] = wine['quality'].apply(add_encode)"
      ],
      "execution_count": null,
      "outputs": []
    },
    {
      "cell_type": "code",
      "metadata": {
        "id": "nf5FBb5Xxpal"
      },
      "source": [
        "wine['quality_remarks'] = wine['quality_encoding'].map({0:'Poor',1:'Average',2:'Good'})\n"
      ],
      "execution_count": null,
      "outputs": []
    },
    {
      "cell_type": "code",
      "metadata": {
        "id": "rE_JDAnlxrBq",
        "colab": {
          "base_uri": "https://localhost:8080/",
          "height": 176
        },
        "outputId": "57580c3b-dbac-40ba-e1f9-08cf4334746e"
      },
      "source": [
        "wine.head(3)"
      ],
      "execution_count": null,
      "outputs": [
        {
          "output_type": "execute_result",
          "data": {
            "text/html": [
              "<div>\n",
              "<style scoped>\n",
              "    .dataframe tbody tr th:only-of-type {\n",
              "        vertical-align: middle;\n",
              "    }\n",
              "\n",
              "    .dataframe tbody tr th {\n",
              "        vertical-align: top;\n",
              "    }\n",
              "\n",
              "    .dataframe thead th {\n",
              "        text-align: right;\n",
              "    }\n",
              "</style>\n",
              "<table border=\"1\" class=\"dataframe\">\n",
              "  <thead>\n",
              "    <tr style=\"text-align: right;\">\n",
              "      <th></th>\n",
              "      <th>fixed acidity</th>\n",
              "      <th>volatile acidity</th>\n",
              "      <th>citric acid</th>\n",
              "      <th>residual sugar</th>\n",
              "      <th>chlorides</th>\n",
              "      <th>free sulfur dioxide</th>\n",
              "      <th>total sulfur dioxide</th>\n",
              "      <th>density</th>\n",
              "      <th>pH</th>\n",
              "      <th>sulphates</th>\n",
              "      <th>alcohol</th>\n",
              "      <th>quality</th>\n",
              "      <th>quality_encoding</th>\n",
              "      <th>quality_remarks</th>\n",
              "    </tr>\n",
              "  </thead>\n",
              "  <tbody>\n",
              "    <tr>\n",
              "      <th>0</th>\n",
              "      <td>7.4</td>\n",
              "      <td>0.70</td>\n",
              "      <td>0.00</td>\n",
              "      <td>1.9</td>\n",
              "      <td>0.076</td>\n",
              "      <td>11.0</td>\n",
              "      <td>34.0</td>\n",
              "      <td>0.9978</td>\n",
              "      <td>3.51</td>\n",
              "      <td>0.56</td>\n",
              "      <td>9.4</td>\n",
              "      <td>5</td>\n",
              "      <td>1</td>\n",
              "      <td>Average</td>\n",
              "    </tr>\n",
              "    <tr>\n",
              "      <th>1</th>\n",
              "      <td>7.8</td>\n",
              "      <td>0.88</td>\n",
              "      <td>0.00</td>\n",
              "      <td>2.6</td>\n",
              "      <td>0.098</td>\n",
              "      <td>25.0</td>\n",
              "      <td>67.0</td>\n",
              "      <td>0.9968</td>\n",
              "      <td>3.20</td>\n",
              "      <td>0.68</td>\n",
              "      <td>9.8</td>\n",
              "      <td>5</td>\n",
              "      <td>1</td>\n",
              "      <td>Average</td>\n",
              "    </tr>\n",
              "    <tr>\n",
              "      <th>2</th>\n",
              "      <td>7.8</td>\n",
              "      <td>0.76</td>\n",
              "      <td>0.04</td>\n",
              "      <td>2.3</td>\n",
              "      <td>0.092</td>\n",
              "      <td>15.0</td>\n",
              "      <td>54.0</td>\n",
              "      <td>0.9970</td>\n",
              "      <td>3.26</td>\n",
              "      <td>0.65</td>\n",
              "      <td>9.8</td>\n",
              "      <td>5</td>\n",
              "      <td>1</td>\n",
              "      <td>Average</td>\n",
              "    </tr>\n",
              "  </tbody>\n",
              "</table>\n",
              "</div>"
            ],
            "text/plain": [
              "   fixed acidity  volatile acidity  ...  quality_encoding  quality_remarks\n",
              "0            7.4              0.70  ...                 1          Average\n",
              "1            7.8              0.88  ...                 1          Average\n",
              "2            7.8              0.76  ...                 1          Average\n",
              "\n",
              "[3 rows x 14 columns]"
            ]
          },
          "metadata": {
            "tags": []
          },
          "execution_count": 62
        }
      ]
    },
    {
      "cell_type": "code",
      "metadata": {
        "id": "9AH5227nxtBe"
      },
      "source": [
        "scaler = StandardScaler()\n",
        "scaler.fit(wine.drop(['quality','quality_encoding', 'quality_remarks'],axis=1))\n",
        "scaled_feat = scaler.transform(wine.drop(['quality','quality_encoding', 'quality_remarks'],axis=1))\n",
        "wine_scaled_enc = pd.DataFrame(scaled_feat,columns=wine.columns[:-3])"
      ],
      "execution_count": null,
      "outputs": []
    },
    {
      "cell_type": "code",
      "metadata": {
        "id": "92MyjD8Ixucy"
      },
      "source": [
        "X_enc = wine_scaled_enc\n",
        "y_enc = wine['quality_encoding']"
      ],
      "execution_count": null,
      "outputs": []
    },
    {
      "cell_type": "code",
      "metadata": {
        "id": "66sGA9oxxv7C"
      },
      "source": [
        "lr_cross_enc = LogisticRegression()\n",
        "dtc_cross_enc = DecisionTreeClassifier()\n",
        "rfc_cross_enc = RandomForestClassifier(n_estimators=20)\n",
        "knn_cross_enc = KNeighborsClassifier(n_neighbors=1)\n",
        "svm_grid_enc = SVC()"
      ],
      "execution_count": null,
      "outputs": []
    },
    {
      "cell_type": "code",
      "metadata": {
        "id": "6NtLiULIxxo-"
      },
      "source": [
        "lr_scores_enc = cross_val_score(lr_cross,X_enc,y_enc,cv=10,scoring='accuracy')\n",
        "dtc_scores_enc = cross_val_score(dtc_cross,X_enc,y_enc,cv=10,scoring='accuracy')\n",
        "rfc_scores_enc = cross_val_score(rfc_cross,X_enc,y_enc,cv=10,scoring='accuracy')\n",
        "knn_scores_enc = cross_val_score(knn_cross,X_enc,y_enc,cv=10,scoring='accuracy')"
      ],
      "execution_count": null,
      "outputs": []
    },
    {
      "cell_type": "markdown",
      "metadata": {
        "id": "QN9wgKxAxzP3"
      },
      "source": [
        "GridSearch for SVM"
      ]
    },
    {
      "cell_type": "code",
      "metadata": {
        "id": "5w5FyMnAx0BU"
      },
      "source": [
        "X_train, X_test, y_train, y_test = train_test_split(X_enc, y_enc, test_size=0.30)\n",
        "grid_enc = GridSearchCV(svm_grid_enc,param_grid)"
      ],
      "execution_count": null,
      "outputs": []
    },
    {
      "cell_type": "code",
      "metadata": {
        "id": "bZXZZkQmx31H",
        "colab": {
          "base_uri": "https://localhost:8080/"
        },
        "outputId": "b83169f9-df40-4e0b-b7b7-cf59da3661a1"
      },
      "source": [
        "grid_enc.fit(X_train,y_train)"
      ],
      "execution_count": null,
      "outputs": [
        {
          "output_type": "execute_result",
          "data": {
            "text/plain": [
              "GridSearchCV(cv=None, error_score=nan,\n",
              "             estimator=SVC(C=1.0, break_ties=False, cache_size=200,\n",
              "                           class_weight=None, coef0=0.0,\n",
              "                           decision_function_shape='ovr', degree=3,\n",
              "                           gamma='scale', kernel='rbf', max_iter=-1,\n",
              "                           probability=False, random_state=None, shrinking=True,\n",
              "                           tol=0.001, verbose=False),\n",
              "             iid='deprecated', n_jobs=None,\n",
              "             param_grid={'C': [0.1, 1, 100, 1000],\n",
              "                         'gamma': [1, 0.1, 0.01, 0.001, 0.0001]},\n",
              "             pre_dispatch='2*n_jobs', refit=True, return_train_score=False,\n",
              "             scoring=None, verbose=0)"
            ]
          },
          "metadata": {
            "tags": []
          },
          "execution_count": 68
        }
      ]
    },
    {
      "cell_type": "code",
      "metadata": {
        "id": "rIDOixRgx7oW"
      },
      "source": [
        "grid_predicitons_enc = grid_enc.predict(X_test)"
      ],
      "execution_count": null,
      "outputs": []
    },
    {
      "cell_type": "code",
      "metadata": {
        "id": "eTMh0BVWx9MV"
      },
      "source": [
        "svm_grid_score_enc = metrics.accuracy_score(y_test,grid_predicitons_enc)"
      ],
      "execution_count": null,
      "outputs": []
    },
    {
      "cell_type": "code",
      "metadata": {
        "id": "SI8vYjhIx-Cv",
        "colab": {
          "base_uri": "https://localhost:8080/",
          "height": 221
        },
        "outputId": "944b186a-5650-4b16-8e3d-9323941a753c"
      },
      "source": [
        "summary_table_2 = pd.DataFrame([lr_scores_enc.mean(),dtc_scores_enc.mean(),rfc_scores_enc.mean(),knn_scores_enc.mean(),svm_grid_score_enc],index=['Logistic Regression', 'Decision Tree', 'Random Forest', 'KNN', 'SVM'], columns=['Accuracy Score'])\n",
        "print(\"Summary Table for Section 2\")\n",
        "summary_table_2"
      ],
      "execution_count": null,
      "outputs": [
        {
          "output_type": "stream",
          "text": [
            "Summary Table for Section 2\n"
          ],
          "name": "stdout"
        },
        {
          "output_type": "execute_result",
          "data": {
            "text/html": [
              "<div>\n",
              "<style scoped>\n",
              "    .dataframe tbody tr th:only-of-type {\n",
              "        vertical-align: middle;\n",
              "    }\n",
              "\n",
              "    .dataframe tbody tr th {\n",
              "        vertical-align: top;\n",
              "    }\n",
              "\n",
              "    .dataframe thead th {\n",
              "        text-align: right;\n",
              "    }\n",
              "</style>\n",
              "<table border=\"1\" class=\"dataframe\">\n",
              "  <thead>\n",
              "    <tr style=\"text-align: right;\">\n",
              "      <th></th>\n",
              "      <th>Accuracy Score</th>\n",
              "    </tr>\n",
              "  </thead>\n",
              "  <tbody>\n",
              "    <tr>\n",
              "      <th>Logistic Regression</th>\n",
              "      <td>0.834902</td>\n",
              "    </tr>\n",
              "    <tr>\n",
              "      <th>Decision Tree</th>\n",
              "      <td>0.739831</td>\n",
              "    </tr>\n",
              "    <tr>\n",
              "      <th>Random Forest</th>\n",
              "      <td>0.834898</td>\n",
              "    </tr>\n",
              "    <tr>\n",
              "      <th>KNN</th>\n",
              "      <td>0.765515</td>\n",
              "    </tr>\n",
              "    <tr>\n",
              "      <th>SVM</th>\n",
              "      <td>0.860417</td>\n",
              "    </tr>\n",
              "  </tbody>\n",
              "</table>\n",
              "</div>"
            ],
            "text/plain": [
              "                     Accuracy Score\n",
              "Logistic Regression        0.834902\n",
              "Decision Tree              0.739831\n",
              "Random Forest              0.834898\n",
              "KNN                        0.765515\n",
              "SVM                        0.860417"
            ]
          },
          "metadata": {
            "tags": []
          },
          "execution_count": 71
        }
      ]
    },
    {
      "cell_type": "code",
      "metadata": {
        "id": "N3wxGB_syBEy",
        "colab": {
          "base_uri": "https://localhost:8080/",
          "height": 391
        },
        "outputId": "219e6611-aa54-4cb5-a126-f257c3329d07"
      },
      "source": [
        "plt.figure(figsize=(10,5))\n",
        "sns.pointplot(summary_table_2.index,summary_table_2['Accuracy Score'])"
      ],
      "execution_count": null,
      "outputs": [
        {
          "output_type": "stream",
          "text": [
            "/usr/local/lib/python3.6/dist-packages/seaborn/_decorators.py:43: FutureWarning: Pass the following variables as keyword args: x, y. From version 0.12, the only valid positional argument will be `data`, and passing other arguments without an explicit keyword will result in an error or misinterpretation.\n",
            "  FutureWarning\n"
          ],
          "name": "stderr"
        },
        {
          "output_type": "execute_result",
          "data": {
            "text/plain": [
              "<matplotlib.axes._subplots.AxesSubplot at 0x7f1e254f2160>"
            ]
          },
          "metadata": {
            "tags": []
          },
          "execution_count": 72
        },
        {
          "output_type": "display_data",
          "data": {
            "image/png": "[encoded data removed]",
            "text/plain": [
              "<Figure size 720x360 with 1 Axes>"
            ]
          },
          "metadata": {
            "tags": [],
            "needs_background": "light"
          }
        }
      ]
    },
    {
      "cell_type": "markdown",
      "metadata": {
        "id": "I1koOpv0yDzl"
      },
      "source": [
        "**Conclusion:**\n",
        "\n",
        "As evident, there is a tremendous improvement in the accuracy, if we reduce the number of classes, with SVM being the best model.\n",
        "\n",
        "Accuracy scores are likely to improve further, if we categorize the dependent variable(Quality) to just two classes, say 'Good' and 'Bad.'\n",
        "\n"
      ]
    },
    {
      "cell_type": "code",
      "metadata": {
        "id": "iP0teGMAI7p2"
      },
      "source": [
        "overall_summary = pd.concat([summary_table_1_1,summary_table_1_2,summary_table_2],axis=1)\n",
        "overall_summary.columns = ['Without Encoding, Hold-Out','Without Encoding, K-fold','With Encoding']"
      ],
      "execution_count": null,
      "outputs": []
    },
    {
      "cell_type": "code",
      "metadata": {
        "id": "vqTwaQOuyeby",
        "colab": {
          "base_uri": "https://localhost:8080/",
          "height": 204
        },
        "outputId": "ebd355a6-2d2e-4288-ac95-06c525577234"
      },
      "source": [
        "overall_summary"
      ],
      "execution_count": null,
      "outputs": [
        {
          "output_type": "execute_result",
          "data": {
            "text/html": [
              "<div>\n",
              "<style scoped>\n",
              "    .dataframe tbody tr th:only-of-type {\n",
              "        vertical-align: middle;\n",
              "    }\n",
              "\n",
              "    .dataframe tbody tr th {\n",
              "        vertical-align: top;\n",
              "    }\n",
              "\n",
              "    .dataframe thead th {\n",
              "        text-align: right;\n",
              "    }\n",
              "</style>\n",
              "<table border=\"1\" class=\"dataframe\">\n",
              "  <thead>\n",
              "    <tr style=\"text-align: right;\">\n",
              "      <th></th>\n",
              "      <th>Without Encoding, Hold-Out</th>\n",
              "      <th>Without Encoding, K-fold</th>\n",
              "      <th>With Encoding</th>\n",
              "    </tr>\n",
              "  </thead>\n",
              "  <tbody>\n",
              "    <tr>\n",
              "      <th>Logistic Regression</th>\n",
              "      <td>0.620833</td>\n",
              "      <td>0.590366</td>\n",
              "      <td>0.834902</td>\n",
              "    </tr>\n",
              "    <tr>\n",
              "      <th>Decision Tree</th>\n",
              "      <td>0.600000</td>\n",
              "      <td>0.476549</td>\n",
              "      <td>0.739831</td>\n",
              "    </tr>\n",
              "    <tr>\n",
              "      <th>Random Forest</th>\n",
              "      <td>0.679167</td>\n",
              "      <td>0.554116</td>\n",
              "      <td>0.834898</td>\n",
              "    </tr>\n",
              "    <tr>\n",
              "      <th>KNN</th>\n",
              "      <td>0.635417</td>\n",
              "      <td>0.488483</td>\n",
              "      <td>0.765515</td>\n",
              "    </tr>\n",
              "    <tr>\n",
              "      <th>SVM</th>\n",
              "      <td>0.643750</td>\n",
              "      <td>0.660417</td>\n",
              "      <td>0.860417</td>\n",
              "    </tr>\n",
              "  </tbody>\n",
              "</table>\n",
              "</div>"
            ],
            "text/plain": [
              "                     Without Encoding, Hold-Out  ...  With Encoding\n",
              "Logistic Regression                    0.620833  ...       0.834902\n",
              "Decision Tree                          0.600000  ...       0.739831\n",
              "Random Forest                          0.679167  ...       0.834898\n",
              "KNN                                    0.635417  ...       0.765515\n",
              "SVM                                    0.643750  ...       0.860417\n",
              "\n",
              "[5 rows x 3 columns]"
            ]
          },
          "metadata": {
            "tags": []
          },
          "execution_count": 74
        }
      ]
    },
    {
      "cell_type": "code",
      "metadata": {
        "id": "zm4rctCWy2wt",
        "colab": {
          "base_uri": "https://localhost:8080/",
          "height": 459
        },
        "outputId": "3e035f64-cd90-4928-c9f6-334722397e76"
      },
      "source": [
        "plt.figure(figsize=(10,5))\n",
        "ax = sns.pointplot(overall_summary.index,overall_summary['Without Encoding, Hold-Out'],color='red')\n",
        "ax = sns.pointplot(overall_summary.index,overall_summary['Without Encoding, K-fold'],color='green')\n",
        "ax = sns.pointplot(overall_summary.index,overall_summary['With Encoding'],color='blue')\n",
        "ax.legend(handles=ax.lines[::len(overall_summary)+1], labels=[\"Without Encoding, Hold-Out\",\"Without Encoding, K-fold\",\"With Encoding\"])"
      ],
      "execution_count": null,
      "outputs": [
        {
          "output_type": "stream",
          "text": [
            "/usr/local/lib/python3.6/dist-packages/seaborn/_decorators.py:43: FutureWarning: Pass the following variables as keyword args: x, y. From version 0.12, the only valid positional argument will be `data`, and passing other arguments without an explicit keyword will result in an error or misinterpretation.\n",
            "  FutureWarning\n",
            "/usr/local/lib/python3.6/dist-packages/seaborn/_decorators.py:43: FutureWarning: Pass the following variables as keyword args: x, y. From version 0.12, the only valid positional argument will be `data`, and passing other arguments without an explicit keyword will result in an error or misinterpretation.\n",
            "  FutureWarning\n",
            "/usr/local/lib/python3.6/dist-packages/seaborn/_decorators.py:43: FutureWarning: Pass the following variables as keyword args: x, y. From version 0.12, the only valid positional argument will be `data`, and passing other arguments without an explicit keyword will result in an error or misinterpretation.\n",
            "  FutureWarning\n"
          ],
          "name": "stderr"
        },
        {
          "output_type": "execute_result",
          "data": {
            "text/plain": [
              "<matplotlib.legend.Legend at 0x7f1e2546fba8>"
            ]
          },
          "metadata": {
            "tags": []
          },
          "execution_count": 75
        },
        {
          "output_type": "display_data",
          "data": {
            "image/png": "[encoded data removed]",
            "text/plain": [
              "<Figure size 720x360 with 1 Axes>"
            ]
          },
          "metadata": {
            "tags": [],
            "needs_background": "light"
          }
        }
      ]
    }
  ]
}